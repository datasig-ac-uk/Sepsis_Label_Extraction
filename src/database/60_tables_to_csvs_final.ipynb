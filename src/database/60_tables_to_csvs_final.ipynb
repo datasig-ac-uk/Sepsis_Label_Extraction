{
 "cells": [
  {
   "cell_type": "markdown",
   "metadata": {},
   "source": [
    "# Create csv tables from the database"
   ]
  },
  {
   "cell_type": "markdown",
   "metadata": {},
   "source": [
    "In this notebook, we extract the data by taking the tables in sql converting to csvs for subsequent analysis. Here we will merge the information that we have on current ICUs. We will also extract the data for various sensitivity analyses.\n",
    "\n",
    "It is important to note that in our study, this part of the process was not transparent to those developing the models, acting as a \"blind experiment\". This is why later in this notebook we will map the ids found in MIMIC to another set of ids to make reconstruction harder."
   ]
  },
  {
   "cell_type": "code",
   "execution_count": 1,
   "metadata": {},
   "outputs": [],
   "source": [
    "import numpy as np\n",
    "import pandas as pd\n",
    "import matplotlib.pyplot as plt\n",
    "import psycopg2"
   ]
  },
  {
   "cell_type": "code",
   "execution_count": 2,
   "metadata": {},
   "outputs": [],
   "source": [
    "pd.set_option('display.max_columns', None)"
   ]
  },
  {
   "cell_type": "markdown",
   "metadata": {},
   "source": [
    "### Set up data access"
   ]
  },
  {
   "cell_type": "code",
   "execution_count": 3,
   "metadata": {},
   "outputs": [],
   "source": [
    "sqluser = 'mimicuser'\n",
    "dbname = 'mimic'"
   ]
  },
  {
   "cell_type": "code",
   "execution_count": 4,
   "metadata": {},
   "outputs": [],
   "source": [
    "schema_name = 'mimiciii'\n",
    "query_schema = 'SET search_path to public,' + schema_name + ';'"
   ]
  },
  {
   "cell_type": "code",
   "execution_count": 5,
   "metadata": {},
   "outputs": [
    {
     "name": "stdout",
     "output_type": "stream",
     "text": [
      "········\n"
     ]
    }
   ],
   "source": [
    "import getpass\n",
    "password = getpass.getpass() "
   ]
  },
  {
   "cell_type": "code",
   "execution_count": 6,
   "metadata": {},
   "outputs": [],
   "source": [
    "# Connect to local postgres version of mimic\n",
    "con = psycopg2.connect(dbname=dbname, user=sqluser, host=\"localhost\", password=password)"
   ]
  },
  {
   "cell_type": "markdown",
   "metadata": {},
   "source": [
    "Set up some useful functions to aid working with sql and  to summarise our exclusions later"
   ]
  },
  {
   "cell_type": "code",
   "execution_count": 7,
   "metadata": {},
   "outputs": [],
   "source": [
    "def load_from_sql(script, con, schema_name):\n",
    "        # Read the SQL query from the provided sql script\n",
    "        f = open(script, 'r')\n",
    "        sql_query = f.read()\n",
    "        f.close()\n",
    "        df = execute_query(sql_query, con, schema_name)\n",
    "        return df\n",
    "\n",
    "def execute_query(query, con, schema_name):\n",
    "    cur = con.cursor()\n",
    "    cur.execute('SET search_path to ' + schema_name)\n",
    "    return pd.read_sql_query(query,con)"
   ]
  },
  {
   "cell_type": "code",
   "execution_count": 8,
   "metadata": {},
   "outputs": [],
   "source": [
    "def sepsis_summary(df_sepsis):\n",
    "\n",
    "    times = ['t_suspicion', 't_sofa', 't_sepsis_min', 't_sepsis_max']\n",
    "    \n",
    "    print(f'There are {len(df_sepsis.icustay_id.unique())} ICU stays after LOS, vital sign and stay exclusions')\n",
    "    \n",
    "    for time in times:\n",
    "        print(f'---------------\\n Looking at {time}')\n",
    "        \n",
    "        len_remove = len(df_sepsis[df_sepsis[time] < df_sepsis.intime+pd.Timedelta(hours=4)]\\\n",
    "            .icustay_id.unique())\n",
    "\n",
    "        len_keep = len(df_sepsis[df_sepsis[time].between(df_sepsis.intime+pd.Timedelta(hours=4),\\\n",
    "                                                df_sepsis.outtime, inclusive=True)].icustay_id.unique())\n",
    "\n",
    "        print(f'We will be keeping {len_keep} ICU stays and removing {len_remove}\\n')\n",
    " "
   ]
  },
  {
   "cell_type": "markdown",
   "metadata": {},
   "source": [
    "### Create a current ICU column"
   ]
  },
  {
   "cell_type": "markdown",
   "metadata": {},
   "source": [
    "We start by extracting vital sign information of the training data and merge with the current ICU the patients are in. To do so, we need to make sure that each patient has a uniquely defined position at any one time. So let us check the information from our current_icu view (see the `current_icu.sql` file for how this view is defined)"
   ]
  },
  {
   "cell_type": "code",
   "execution_count": 9,
   "metadata": {},
   "outputs": [],
   "source": [
    "Q = \"\"\"select icustay_id, charttime, curr_careunit \n",
    "from current_icu c \n",
    "order by icustay_id, charttime\"\"\"\n",
    "df_care = execute_query(Q, con, schema_name)"
   ]
  },
  {
   "cell_type": "markdown",
   "metadata": {},
   "source": [
    "Remove those entries that are not linked to an icustay_id"
   ]
  },
  {
   "cell_type": "code",
   "execution_count": 10,
   "metadata": {},
   "outputs": [],
   "source": [
    "df_care = df_care[~df_care.icustay_id.isnull()]"
   ]
  },
  {
   "cell_type": "markdown",
   "metadata": {},
   "source": [
    "The following table shows that we have duplicated rows"
   ]
  },
  {
   "cell_type": "code",
   "execution_count": 11,
   "metadata": {},
   "outputs": [
    {
     "data": {
      "text/html": [
       "<div>\n",
       "<style scoped>\n",
       "    .dataframe tbody tr th:only-of-type {\n",
       "        vertical-align: middle;\n",
       "    }\n",
       "\n",
       "    .dataframe tbody tr th {\n",
       "        vertical-align: top;\n",
       "    }\n",
       "\n",
       "    .dataframe thead th {\n",
       "        text-align: right;\n",
       "    }\n",
       "</style>\n",
       "<table border=\"1\" class=\"dataframe\">\n",
       "  <thead>\n",
       "    <tr style=\"text-align: right;\">\n",
       "      <th></th>\n",
       "      <th>icustay_id</th>\n",
       "      <th>charttime</th>\n",
       "      <th>curr_careunit</th>\n",
       "    </tr>\n",
       "  </thead>\n",
       "  <tbody>\n",
       "    <tr>\n",
       "      <th>92964</th>\n",
       "      <td>200817.0</td>\n",
       "      <td>2116-07-15 13:11:00</td>\n",
       "      <td>CSRU</td>\n",
       "    </tr>\n",
       "    <tr>\n",
       "      <th>92965</th>\n",
       "      <td>200817.0</td>\n",
       "      <td>2116-07-15 13:11:00</td>\n",
       "      <td>CSRU</td>\n",
       "    </tr>\n",
       "    <tr>\n",
       "      <th>92966</th>\n",
       "      <td>200817.0</td>\n",
       "      <td>2116-07-15 13:15:00</td>\n",
       "      <td>CSRU</td>\n",
       "    </tr>\n",
       "    <tr>\n",
       "      <th>92967</th>\n",
       "      <td>200817.0</td>\n",
       "      <td>2116-07-15 13:15:00</td>\n",
       "      <td>CSRU</td>\n",
       "    </tr>\n",
       "    <tr>\n",
       "      <th>92968</th>\n",
       "      <td>200817.0</td>\n",
       "      <td>2116-07-15 13:30:00</td>\n",
       "      <td>CSRU</td>\n",
       "    </tr>\n",
       "  </tbody>\n",
       "</table>\n",
       "</div>"
      ],
      "text/plain": [
       "       icustay_id           charttime curr_careunit\n",
       "92964    200817.0 2116-07-15 13:11:00          CSRU\n",
       "92965    200817.0 2116-07-15 13:11:00          CSRU\n",
       "92966    200817.0 2116-07-15 13:15:00          CSRU\n",
       "92967    200817.0 2116-07-15 13:15:00          CSRU\n",
       "92968    200817.0 2116-07-15 13:30:00          CSRU"
      ]
     },
     "execution_count": 11,
     "metadata": {},
     "output_type": "execute_result"
    }
   ],
   "source": [
    "df_care[df_care.duplicated(keep= False)].head()"
   ]
  },
  {
   "cell_type": "markdown",
   "metadata": {},
   "source": [
    "We can filter these out"
   ]
  },
  {
   "cell_type": "code",
   "execution_count": 12,
   "metadata": {},
   "outputs": [],
   "source": [
    "df_care = df_care.drop_duplicates()"
   ]
  },
  {
   "cell_type": "code",
   "execution_count": 13,
   "metadata": {},
   "outputs": [],
   "source": [
    "df_care = df_care.sort_values(by=['icustay_id','charttime','curr_careunit'], ignore_index=True)"
   ]
  },
  {
   "cell_type": "markdown",
   "metadata": {},
   "source": [
    "However there are still repeated data for some patient at a particular charttime"
   ]
  },
  {
   "cell_type": "code",
   "execution_count": 14,
   "metadata": {},
   "outputs": [],
   "source": [
    "df_repeats = df_care[df_care[['icustay_id', 'charttime']].duplicated(keep= False)]\n",
    "\n",
    "df_repeats = df_repeats.sort_values(by=['icustay_id','charttime','curr_careunit'])"
   ]
  },
  {
   "cell_type": "code",
   "execution_count": 15,
   "metadata": {},
   "outputs": [
    {
     "data": {
      "text/plain": [
       "636"
      ]
     },
     "execution_count": 15,
     "metadata": {},
     "output_type": "execute_result"
    }
   ],
   "source": [
    "len(df_repeats)"
   ]
  },
  {
   "cell_type": "markdown",
   "metadata": {},
   "source": [
    "\n",
    "This is actually caused by conflicting information for 8 patients in the original transfer data. We shall look at each of these patients closely to determine which location they are more likely to be."
   ]
  },
  {
   "cell_type": "code",
   "execution_count": 16,
   "metadata": {},
   "outputs": [
    {
     "data": {
      "text/plain": [
       "array([200182., 208656., 208996., 241787., 245640., 275357., 278029.,\n",
       "       281227.])"
      ]
     },
     "execution_count": 16,
     "metadata": {},
     "output_type": "execute_result"
    }
   ],
   "source": [
    "df_repeats.icustay_id.unique()"
   ]
  },
  {
   "cell_type": "markdown",
   "metadata": {},
   "source": [
    "We can look at the original information from the transfer table. Let's look at 275357 as an example"
   ]
  },
  {
   "cell_type": "code",
   "execution_count": 17,
   "metadata": {},
   "outputs": [
    {
     "data": {
      "text/html": [
       "<div>\n",
       "<style scoped>\n",
       "    .dataframe tbody tr th:only-of-type {\n",
       "        vertical-align: middle;\n",
       "    }\n",
       "\n",
       "    .dataframe tbody tr th {\n",
       "        vertical-align: top;\n",
       "    }\n",
       "\n",
       "    .dataframe thead th {\n",
       "        text-align: right;\n",
       "    }\n",
       "</style>\n",
       "<table border=\"1\" class=\"dataframe\">\n",
       "  <thead>\n",
       "    <tr style=\"text-align: right;\">\n",
       "      <th></th>\n",
       "      <th>icustay_id</th>\n",
       "      <th>charttime</th>\n",
       "      <th>curr_careunit</th>\n",
       "    </tr>\n",
       "  </thead>\n",
       "  <tbody>\n",
       "    <tr>\n",
       "      <th>8065440</th>\n",
       "      <td>275357.0</td>\n",
       "      <td>2184-03-20 01:00:00</td>\n",
       "      <td>NICU</td>\n",
       "    </tr>\n",
       "    <tr>\n",
       "      <th>8065441</th>\n",
       "      <td>275357.0</td>\n",
       "      <td>2184-03-20 01:00:00</td>\n",
       "      <td>NWARD</td>\n",
       "    </tr>\n",
       "    <tr>\n",
       "      <th>8065442</th>\n",
       "      <td>275357.0</td>\n",
       "      <td>2184-03-20 13:10:00</td>\n",
       "      <td>NICU</td>\n",
       "    </tr>\n",
       "    <tr>\n",
       "      <th>8065443</th>\n",
       "      <td>275357.0</td>\n",
       "      <td>2184-03-20 13:10:00</td>\n",
       "      <td>NWARD</td>\n",
       "    </tr>\n",
       "    <tr>\n",
       "      <th>8065444</th>\n",
       "      <td>275357.0</td>\n",
       "      <td>2184-03-21 06:00:00</td>\n",
       "      <td>NICU</td>\n",
       "    </tr>\n",
       "  </tbody>\n",
       "</table>\n",
       "</div>"
      ],
      "text/plain": [
       "         icustay_id           charttime curr_careunit\n",
       "8065440    275357.0 2184-03-20 01:00:00          NICU\n",
       "8065441    275357.0 2184-03-20 01:00:00         NWARD\n",
       "8065442    275357.0 2184-03-20 13:10:00          NICU\n",
       "8065443    275357.0 2184-03-20 13:10:00         NWARD\n",
       "8065444    275357.0 2184-03-21 06:00:00          NICU"
      ]
     },
     "execution_count": 17,
     "metadata": {},
     "output_type": "execute_result"
    }
   ],
   "source": [
    "df_repeats[df_repeats.icustay_id == 275357].head()"
   ]
  },
  {
   "cell_type": "code",
   "execution_count": 18,
   "metadata": {},
   "outputs": [],
   "source": [
    "Q = \"\"\"select * from transfers where icustay_id = 275357\"\"\"\n",
    "test = execute_query(Q, con, schema_name)"
   ]
  },
  {
   "cell_type": "code",
   "execution_count": 19,
   "metadata": {},
   "outputs": [
    {
     "data": {
      "text/html": [
       "<div>\n",
       "<style scoped>\n",
       "    .dataframe tbody tr th:only-of-type {\n",
       "        vertical-align: middle;\n",
       "    }\n",
       "\n",
       "    .dataframe tbody tr th {\n",
       "        vertical-align: top;\n",
       "    }\n",
       "\n",
       "    .dataframe thead th {\n",
       "        text-align: right;\n",
       "    }\n",
       "</style>\n",
       "<table border=\"1\" class=\"dataframe\">\n",
       "  <thead>\n",
       "    <tr style=\"text-align: right;\">\n",
       "      <th></th>\n",
       "      <th>row_id</th>\n",
       "      <th>subject_id</th>\n",
       "      <th>hadm_id</th>\n",
       "      <th>icustay_id</th>\n",
       "      <th>dbsource</th>\n",
       "      <th>eventtype</th>\n",
       "      <th>prev_careunit</th>\n",
       "      <th>curr_careunit</th>\n",
       "      <th>prev_wardid</th>\n",
       "      <th>curr_wardid</th>\n",
       "      <th>intime</th>\n",
       "      <th>outtime</th>\n",
       "      <th>los</th>\n",
       "    </tr>\n",
       "  </thead>\n",
       "  <tbody>\n",
       "    <tr>\n",
       "      <th>0</th>\n",
       "      <td>43664</td>\n",
       "      <td>8017</td>\n",
       "      <td>131067</td>\n",
       "      <td>275357</td>\n",
       "      <td>carevue</td>\n",
       "      <td>admit</td>\n",
       "      <td>None</td>\n",
       "      <td>NICU</td>\n",
       "      <td>NaN</td>\n",
       "      <td>26</td>\n",
       "      <td>2184-03-18 01:20:00</td>\n",
       "      <td>2184-03-18 12:31:00</td>\n",
       "      <td>11.18</td>\n",
       "    </tr>\n",
       "    <tr>\n",
       "      <th>1</th>\n",
       "      <td>43665</td>\n",
       "      <td>8017</td>\n",
       "      <td>131067</td>\n",
       "      <td>275357</td>\n",
       "      <td>carevue</td>\n",
       "      <td>transfer</td>\n",
       "      <td>NICU</td>\n",
       "      <td>NICU</td>\n",
       "      <td>26.0</td>\n",
       "      <td>26</td>\n",
       "      <td>2184-03-18 12:31:00</td>\n",
       "      <td>2184-03-22 13:50:00</td>\n",
       "      <td>97.32</td>\n",
       "    </tr>\n",
       "  </tbody>\n",
       "</table>\n",
       "</div>"
      ],
      "text/plain": [
       "   row_id  subject_id  hadm_id  icustay_id dbsource eventtype prev_careunit  \\\n",
       "0   43664        8017   131067      275357  carevue     admit          None   \n",
       "1   43665        8017   131067      275357  carevue  transfer          NICU   \n",
       "\n",
       "  curr_careunit  prev_wardid  curr_wardid              intime  \\\n",
       "0          NICU          NaN           26 2184-03-18 01:20:00   \n",
       "1          NICU         26.0           26 2184-03-18 12:31:00   \n",
       "\n",
       "              outtime    los  \n",
       "0 2184-03-18 12:31:00  11.18  \n",
       "1 2184-03-22 13:50:00  97.32  "
      ]
     },
     "execution_count": 19,
     "metadata": {},
     "output_type": "execute_result"
    }
   ],
   "source": [
    "test"
   ]
  },
  {
   "cell_type": "markdown",
   "metadata": {},
   "source": [
    "By looking at tables like above for all patients, we can make a judgement as to which duplicate to keep. After looking at the raw data, we will get rid of the CCU repeats for 281227, CSRU repeats for 200182, Get rid of NWARD for 275357 and the None repeats for the others. To do this, we compile a list of all the indices that we want to remove by keeping either first or last as appropriate"
   ]
  },
  {
   "cell_type": "code",
   "execution_count": 20,
   "metadata": {},
   "outputs": [],
   "source": [
    "index1 = (df_care[['icustay_id', 'charttime']].duplicated(keep= 'last'))\\\n",
    "        &(df_care.icustay_id==281227)\n",
    "index2 = (df_care[['icustay_id', 'charttime']].duplicated(keep= 'last'))\\\n",
    "        &(df_care.icustay_id==200182)\n",
    "index3 = (df_care[['icustay_id', 'charttime']].duplicated(keep= 'first'))\\\n",
    "        &(df_care.icustay_id==208656)\n",
    "index4 = (df_care[['icustay_id', 'charttime']].duplicated(keep= 'first'))\\\n",
    "        &(df_care.icustay_id==245640)\n",
    "index5 = (df_care[['icustay_id', 'charttime']].duplicated(keep= 'first'))\\\n",
    "        &(df_care.icustay_id==278029)\n",
    "index6 = (df_care[['icustay_id', 'charttime']].duplicated(keep= 'first'))\\\n",
    "        &(df_care.icustay_id==208996)\n",
    "index7 = (df_care[['icustay_id', 'charttime']].duplicated(keep= 'first'))\\\n",
    "        &(df_care.icustay_id==241787)\n",
    "index8 = (df_care[['icustay_id', 'charttime']].duplicated(keep= 'first'))\\\n",
    "        &(df_care.icustay_id==275357)"
   ]
  },
  {
   "cell_type": "code",
   "execution_count": 21,
   "metadata": {},
   "outputs": [],
   "source": [
    "drop1 = np.where(index1)[0]\n",
    "drop2 = np.where(index2)[0]\n",
    "drop3 = np.where(index3)[0]\n",
    "drop4 = np.where(index4)[0]\n",
    "drop5 = np.where(index5)[0]\n",
    "drop6 = np.where(index6)[0]\n",
    "drop7 = np.where(index7)[0]\n",
    "drop8 = np.where(index8)[0]"
   ]
  },
  {
   "cell_type": "code",
   "execution_count": 22,
   "metadata": {},
   "outputs": [],
   "source": [
    "all_dropped_index = np.concatenate((drop1, drop2, drop3, drop4, drop5, drop6, drop7, drop8))"
   ]
  },
  {
   "cell_type": "code",
   "execution_count": 23,
   "metadata": {},
   "outputs": [
    {
     "data": {
      "text/plain": [
       "318"
      ]
     },
     "execution_count": 23,
     "metadata": {},
     "output_type": "execute_result"
    }
   ],
   "source": [
    "len(all_dropped_index)"
   ]
  },
  {
   "cell_type": "markdown",
   "metadata": {},
   "source": [
    "Let us do a sanity check first by checking that this works for the \"drop1\" indices"
   ]
  },
  {
   "cell_type": "code",
   "execution_count": 24,
   "metadata": {},
   "outputs": [
    {
     "data": {
      "text/plain": [
       "array([8706731, 8706733, 8706735, 8706737, 8706739, 8706741, 8706743,\n",
       "       8706745, 8706747, 8706749, 8706751, 8706753, 8706755, 8706757,\n",
       "       8706759, 8706761, 8706763, 8706765, 8706767, 8706769, 8706771,\n",
       "       8706773, 8706775, 8706777, 8706779, 8706781, 8706783, 8706785,\n",
       "       8706787, 8706789, 8706791, 8706793, 8706795, 8706797, 8706799,\n",
       "       8706801, 8706803, 8706805, 8706807, 8706809, 8706811, 8706813,\n",
       "       8706815, 8706817, 8706819, 8706821, 8706823, 8706825, 8706827,\n",
       "       8706829, 8706831, 8706833, 8706835, 8706837, 8706839, 8706841])"
      ]
     },
     "execution_count": 24,
     "metadata": {},
     "output_type": "execute_result"
    }
   ],
   "source": [
    "drop1"
   ]
  },
  {
   "cell_type": "markdown",
   "metadata": {},
   "source": [
    "We can see that originally we have duplicate entries of CSRU and CCU."
   ]
  },
  {
   "cell_type": "code",
   "execution_count": 25,
   "metadata": {},
   "outputs": [
    {
     "data": {
      "text/html": [
       "<div>\n",
       "<style scoped>\n",
       "    .dataframe tbody tr th:only-of-type {\n",
       "        vertical-align: middle;\n",
       "    }\n",
       "\n",
       "    .dataframe tbody tr th {\n",
       "        vertical-align: top;\n",
       "    }\n",
       "\n",
       "    .dataframe thead th {\n",
       "        text-align: right;\n",
       "    }\n",
       "</style>\n",
       "<table border=\"1\" class=\"dataframe\">\n",
       "  <thead>\n",
       "    <tr style=\"text-align: right;\">\n",
       "      <th></th>\n",
       "      <th>icustay_id</th>\n",
       "      <th>charttime</th>\n",
       "      <th>curr_careunit</th>\n",
       "    </tr>\n",
       "  </thead>\n",
       "  <tbody>\n",
       "    <tr>\n",
       "      <th>8706731</th>\n",
       "      <td>281227.0</td>\n",
       "      <td>2134-04-20 10:00:00</td>\n",
       "      <td>CCU</td>\n",
       "    </tr>\n",
       "    <tr>\n",
       "      <th>8706732</th>\n",
       "      <td>281227.0</td>\n",
       "      <td>2134-04-20 10:00:00</td>\n",
       "      <td>CSRU</td>\n",
       "    </tr>\n",
       "    <tr>\n",
       "      <th>8706733</th>\n",
       "      <td>281227.0</td>\n",
       "      <td>2134-04-20 11:00:00</td>\n",
       "      <td>CCU</td>\n",
       "    </tr>\n",
       "    <tr>\n",
       "      <th>8706734</th>\n",
       "      <td>281227.0</td>\n",
       "      <td>2134-04-20 11:00:00</td>\n",
       "      <td>CSRU</td>\n",
       "    </tr>\n",
       "  </tbody>\n",
       "</table>\n",
       "</div>"
      ],
      "text/plain": [
       "         icustay_id           charttime curr_careunit\n",
       "8706731    281227.0 2134-04-20 10:00:00           CCU\n",
       "8706732    281227.0 2134-04-20 10:00:00          CSRU\n",
       "8706733    281227.0 2134-04-20 11:00:00           CCU\n",
       "8706734    281227.0 2134-04-20 11:00:00          CSRU"
      ]
     },
     "execution_count": 25,
     "metadata": {},
     "output_type": "execute_result"
    }
   ],
   "source": [
    "df_care.iloc[8706731:8706735]"
   ]
  },
  {
   "cell_type": "markdown",
   "metadata": {},
   "source": [
    "But if we dropped the index, then we remove all CCU entries as desired"
   ]
  },
  {
   "cell_type": "code",
   "execution_count": 26,
   "metadata": {},
   "outputs": [
    {
     "data": {
      "text/html": [
       "<div>\n",
       "<style scoped>\n",
       "    .dataframe tbody tr th:only-of-type {\n",
       "        vertical-align: middle;\n",
       "    }\n",
       "\n",
       "    .dataframe tbody tr th {\n",
       "        vertical-align: top;\n",
       "    }\n",
       "\n",
       "    .dataframe thead th {\n",
       "        text-align: right;\n",
       "    }\n",
       "</style>\n",
       "<table border=\"1\" class=\"dataframe\">\n",
       "  <thead>\n",
       "    <tr style=\"text-align: right;\">\n",
       "      <th></th>\n",
       "      <th>icustay_id</th>\n",
       "      <th>charttime</th>\n",
       "      <th>curr_careunit</th>\n",
       "    </tr>\n",
       "  </thead>\n",
       "  <tbody>\n",
       "    <tr>\n",
       "      <th>8706732</th>\n",
       "      <td>281227.0</td>\n",
       "      <td>2134-04-20 10:00:00</td>\n",
       "      <td>CSRU</td>\n",
       "    </tr>\n",
       "    <tr>\n",
       "      <th>8706734</th>\n",
       "      <td>281227.0</td>\n",
       "      <td>2134-04-20 11:00:00</td>\n",
       "      <td>CSRU</td>\n",
       "    </tr>\n",
       "    <tr>\n",
       "      <th>8706736</th>\n",
       "      <td>281227.0</td>\n",
       "      <td>2134-04-20 11:29:00</td>\n",
       "      <td>CSRU</td>\n",
       "    </tr>\n",
       "  </tbody>\n",
       "</table>\n",
       "</div>"
      ],
      "text/plain": [
       "         icustay_id           charttime curr_careunit\n",
       "8706732    281227.0 2134-04-20 10:00:00          CSRU\n",
       "8706734    281227.0 2134-04-20 11:00:00          CSRU\n",
       "8706736    281227.0 2134-04-20 11:29:00          CSRU"
      ]
     },
     "execution_count": 26,
     "metadata": {},
     "output_type": "execute_result"
    }
   ],
   "source": [
    "df_care.drop(df_care.index[all_dropped_index]).iloc[8706469:8706472]"
   ]
  },
  {
   "cell_type": "code",
   "execution_count": 27,
   "metadata": {},
   "outputs": [],
   "source": [
    "df_care = df_care.drop(df_care.index[all_dropped_index])"
   ]
  },
  {
   "cell_type": "markdown",
   "metadata": {},
   "source": [
    "Now we verify that there are no duplicates after dropping these indices."
   ]
  },
  {
   "cell_type": "code",
   "execution_count": 28,
   "metadata": {},
   "outputs": [
    {
     "data": {
      "text/html": [
       "<div>\n",
       "<style scoped>\n",
       "    .dataframe tbody tr th:only-of-type {\n",
       "        vertical-align: middle;\n",
       "    }\n",
       "\n",
       "    .dataframe tbody tr th {\n",
       "        vertical-align: top;\n",
       "    }\n",
       "\n",
       "    .dataframe thead th {\n",
       "        text-align: right;\n",
       "    }\n",
       "</style>\n",
       "<table border=\"1\" class=\"dataframe\">\n",
       "  <thead>\n",
       "    <tr style=\"text-align: right;\">\n",
       "      <th></th>\n",
       "      <th>icustay_id</th>\n",
       "      <th>charttime</th>\n",
       "      <th>curr_careunit</th>\n",
       "    </tr>\n",
       "  </thead>\n",
       "  <tbody>\n",
       "  </tbody>\n",
       "</table>\n",
       "</div>"
      ],
      "text/plain": [
       "Empty DataFrame\n",
       "Columns: [icustay_id, charttime, curr_careunit]\n",
       "Index: []"
      ]
     },
     "execution_count": 28,
     "metadata": {},
     "output_type": "execute_result"
    }
   ],
   "source": [
    "df_care[df_care[['icustay_id', 'charttime']].duplicated()]"
   ]
  },
  {
   "cell_type": "markdown",
   "metadata": {},
   "source": [
    "### Remapping ids"
   ]
  },
  {
   "cell_type": "markdown",
   "metadata": {},
   "source": [
    "For our experiments, we have used an additional 1 to 1 map for the subject_ids, hadm_ids, and icustay_ids found in MIMIC to a random key (the mapping is found in the three files that we load below). These keys were made by a random permutation of 1 to len(ids) for each of subject_id, hadm_id and icustay_id. This part of the pipeline is to obscure the original information from the members of the team that will be running the models so that it is harder to construct which patients will be in the test set, ensuring fairness in our set-up."
   ]
  },
  {
   "cell_type": "markdown",
   "metadata": {},
   "source": [
    "We load the mapping here."
   ]
  },
  {
   "cell_type": "code",
   "execution_count": 29,
   "metadata": {},
   "outputs": [],
   "source": [
    "df_subject_ids = pd.read_csv('./mapping_keys/subject_key_combined.csv')\n",
    "df_hadm_ids = pd.read_csv('./mapping_keys/hadm_key_combined.csv')\n",
    "df_icustay_ids = pd.read_csv('./mapping_keys/icustay_key_combined.csv')"
   ]
  },
  {
   "cell_type": "markdown",
   "metadata": {},
   "source": [
    "### Sepsis - Blood cultures only"
   ]
  },
  {
   "cell_type": "markdown",
   "metadata": {},
   "source": [
    "We extract the data of the patients in the training set for the sepsis time that is computed with a SOFA window of 48 hours before and 24 hours after time of suspected infection.\n",
    "\n",
    "Note that we decided later to merge the training and validation set as we switched to cross-validation, and therefore we extract all data pertaining to train and val here."
   ]
  },
  {
   "cell_type": "code",
   "execution_count": 30,
   "metadata": {},
   "outputs": [],
   "source": [
    "Q = \"\"\"\n",
    "with ids as (select * from train_ids union select * from val_ids)\n",
    "select e.*, s.t_suspicion, s.t_sofa, s.t_sepsis_min, s.t_sepsis_max\n",
    "from extracted_data e \n",
    "inner join ids on e.subject_id = ids.subject_id\n",
    "  inner join sepsis_cohort_time_blood_sensitivity_4824 s \n",
    "  on e.icustay_id = s.icustay_id order by subject_id, charttime\"\"\"\n",
    "df_sepsis = execute_query(Q, con, schema_name)"
   ]
  },
  {
   "cell_type": "markdown",
   "metadata": {},
   "source": [
    "There appears to be some duplicated entries that we will remove"
   ]
  },
  {
   "cell_type": "code",
   "execution_count": 31,
   "metadata": {},
   "outputs": [
    {
     "data": {
      "text/plain": [
       "206"
      ]
     },
     "execution_count": 31,
     "metadata": {},
     "output_type": "execute_result"
    }
   ],
   "source": [
    "len(df_sepsis[df_sepsis.duplicated()])"
   ]
  },
  {
   "cell_type": "code",
   "execution_count": 32,
   "metadata": {},
   "outputs": [],
   "source": [
    "df_sepsis = df_sepsis.drop_duplicates()"
   ]
  },
  {
   "cell_type": "markdown",
   "metadata": {},
   "source": [
    "However, it appears that there are still duplicate times for a few patients."
   ]
  },
  {
   "cell_type": "code",
   "execution_count": 33,
   "metadata": {},
   "outputs": [
    {
     "data": {
      "text/plain": [
       "22"
      ]
     },
     "execution_count": 33,
     "metadata": {},
     "output_type": "execute_result"
    }
   ],
   "source": [
    "len(df_sepsis[df_sepsis[['icustay_id', 'charttime']].duplicated(keep=False)])"
   ]
  },
  {
   "cell_type": "markdown",
   "metadata": {},
   "source": [
    "We check for possible explanations by looking at the results returned by the following queries"
   ]
  },
  {
   "cell_type": "code",
   "execution_count": 34,
   "metadata": {},
   "outputs": [],
   "source": [
    "Q = \"\"\"select * from extracted_chart where icustay_id = 287417\n",
    "order by charttime\n",
    "\"\"\"\n",
    "test = execute_query(Q, con, schema_name)"
   ]
  },
  {
   "cell_type": "code",
   "execution_count": 35,
   "metadata": {},
   "outputs": [
    {
     "data": {
      "text/plain": [
       "array([193734, 157999])"
      ]
     },
     "execution_count": 35,
     "metadata": {},
     "output_type": "execute_result"
    }
   ],
   "source": [
    "test.hadm_id.unique()"
   ]
  },
  {
   "cell_type": "code",
   "execution_count": 36,
   "metadata": {},
   "outputs": [],
   "source": [
    "Q = \"\"\"select * from chartevents where icustay_id = 287417\n",
    "order by charttime\n",
    "\"\"\"\n",
    "test = execute_query(Q, con, schema_name)"
   ]
  },
  {
   "cell_type": "code",
   "execution_count": 37,
   "metadata": {},
   "outputs": [
    {
     "data": {
      "text/plain": [
       "array([193734, 157999])"
      ]
     },
     "execution_count": 37,
     "metadata": {},
     "output_type": "execute_result"
    }
   ],
   "source": [
    "test.hadm_id.unique()"
   ]
  },
  {
   "cell_type": "code",
   "execution_count": 38,
   "metadata": {},
   "outputs": [],
   "source": [
    "Q = \"\"\"select * from extracted_chart where hadm_id = 157999\n",
    "order by charttime\n",
    "\"\"\"\n",
    "test = execute_query(Q, con, schema_name)"
   ]
  },
  {
   "cell_type": "code",
   "execution_count": 39,
   "metadata": {},
   "outputs": [],
   "source": [
    "Q = \"\"\"select * from extracted_data where hadm_id = 157999\n",
    "order by charttime\n",
    "\"\"\"\n",
    "test = execute_query(Q, con, schema_name)"
   ]
  },
  {
   "cell_type": "markdown",
   "metadata": {},
   "source": [
    "After some inspection, it appears that the above problems seem to be caused by having spurious hadm_id matched with icustay_id for blood glucose readings, perhaps caused some admin error? However for the purposes of our research these would not have much impact given that we are taking hourly summary of the data. If our data format changes, then this issue will have to be addressed."
   ]
  },
  {
   "cell_type": "code",
   "execution_count": 40,
   "metadata": {},
   "outputs": [],
   "source": [
    "df_sepsis_merge = df_sepsis.merge(df_care, on=['icustay_id', 'charttime'], how='inner')"
   ]
  },
  {
   "cell_type": "markdown",
   "metadata": {},
   "source": [
    "Next we remap the ids to our random mapping as explained above."
   ]
  },
  {
   "cell_type": "code",
   "execution_count": 41,
   "metadata": {},
   "outputs": [
   {
     "name": "stdout",
     "output_type": "stream",
     "text": [
      "Merging new icustay_ids\n",
      "Merging new hadm_ids\n",
      "Merging new subject_ids\n"
     ]
    }
   ],
   "source": [
    "print('Merging new icustay_ids')\n",
    "\n",
    "df_newid2 = pd.merge(df_icustay_ids, df_sepsis_merge, on='icustay_id')\n",
    "\n",
    "print('Merging new hadm_ids')\n",
    "\n",
    "df_newid2 = pd.merge(df_hadm_ids, df_newid2, on='hadm_id')\n",
    "\n",
    "print('Merging new subject_ids')\n",
    "\n",
    "df_newid2 = pd.merge(df_subject_ids, df_newid2, on='subject_id')"
   ]
  },
  {
   "cell_type": "code",
   "execution_count": 42,
   "metadata": {},
   "outputs": [],
   "source": [
    "df_newid2.drop(['subject_id', 'hadm_id', 'icustay_id'], axis = 1, inplace=True)\n",
    "\n",
    "df_newid2.rename(columns={\"subject_id_random\": \"subject_id\", \"hadm_id_random\":\\\n",
    "                          \"hadm_id\", \"icustay_id_random\":\"icustay_id\"}, inplace=True)"
   ]
  },
  {
   "cell_type": "markdown",
   "metadata": {},
   "source": [
    "Next we reorder the columns"
   ]
  },
  {
   "cell_type": "code",
   "execution_count": 43,
   "metadata": {},
   "outputs": [
    {
     "data": {
      "text/plain": [
       "Index(['subject_id', 'hadm_id', 'icustay_id', 'admission_type', 'admittime',\n",
       "       'dischtime', 'hospital_expire_flag', 'deathtime', 'intime', 'outtime',\n",
       "       ...\n",
       "       'sofa_liver', 'sofa_circu', 'sofa_cns', 'sofa_renal', 'sofa_total',\n",
       "       't_suspicion', 't_sofa', 't_sepsis_min', 't_sepsis_max',\n",
       "       'curr_careunit'],\n",
       "      dtype='object', length=116)"
      ]
     },
     "execution_count": 43,
     "metadata": {},
     "output_type": "execute_result"
    }
   ],
   "source": [
    "df_newid2.columns"
   ]
  },
  {
   "cell_type": "code",
   "execution_count": 44,
   "metadata": {},
   "outputs": [],
   "source": [
    "static_info = ['subject_id', 'hadm_id', 'icustay_id', 'admission_type', 'admittime',\n",
    "               'dischtime', 'hospital_expire_flag', 'deathtime', 'intime', 'outtime', 'admit_diff', \n",
    "               'age', 'gender', 'ethnicity', 'insurance', 'initial_diagnosis', 'first_careunit',\n",
    "               'last_careunit', 'dbsource', 'los_hospital', 'hospstay_seq', 'los_icu',\n",
    "               'icustay_seq', 't_suspicion', 't_sofa', 't_sepsis_min', 't_sepsis_max']"
   ]
  },
  {
   "cell_type": "code",
   "execution_count": 45,
   "metadata": {},
   "outputs": [],
   "source": [
    "new_columns = static_info + (df_newid2.columns.drop(static_info).tolist())\n",
    "\n",
    "df_newid2 = df_newid2[new_columns]\n",
    "\n",
    "df_sepsis = df_newid2.sort_values(['subject_id', 'charttime'])"
   ]
  },
  {
   "cell_type": "markdown",
   "metadata": {},
   "source": [
    "We see that almost half of the patient are classed as will be having sepsis at some point"
   ]
  },
  {
   "cell_type": "code",
   "execution_count": 46,
   "metadata": {},
   "outputs": [
    {
     "data": {
      "text/plain": [
       "6330"
      ]
     },
     "execution_count": 46,
     "metadata": {},
     "output_type": "execute_result"
    }
   ],
   "source": [
    "len(df_sepsis[~df_sepsis.t_sepsis_min.isnull()].icustay_id.unique())"
   ]
  },
  {
   "cell_type": "code",
   "execution_count": 47,
   "metadata": {},
   "outputs": [
    {
     "data": {
      "text/plain": [
       "13971"
      ]
     },
     "execution_count": 47,
     "metadata": {},
     "output_type": "execute_result"
    }
   ],
   "source": [
    "len(df_sepsis.icustay_id.unique())"
   ]
  },
  {
   "cell_type": "markdown",
   "metadata": {},
   "source": [
    "Exclude patients whose stay was less than 4 hours and greater than 20 days"
   ]
  },
  {
   "cell_type": "code",
   "execution_count": 48,
   "metadata": {},
   "outputs": [],
   "source": [
    "df_sepsis = df_sepsis[(df_sepsis['outtime'] <= df_sepsis['intime']+pd.Timedelta(days=20)) & \\\n",
    "             (df_sepsis['outtime'] >= df_sepsis['intime']+pd.Timedelta(hours=4))]"
   ]
  },
  {
   "cell_type": "code",
   "execution_count": 49,
   "metadata": {},
   "outputs": [
    {
     "data": {
      "text/plain": [
       "13704"
      ]
     },
     "execution_count": 49,
     "metadata": {},
     "output_type": "execute_result"
    }
   ],
   "source": [
    "len(df_sepsis.icustay_id.unique())"
   ]
  },
  {
   "cell_type": "code",
   "execution_count": 50,
   "metadata": {},
   "outputs": [],
   "source": [
    "# We want to filter out patients without any vital sign data\n",
    "\n",
    "vitals = ['heart_rate', 'nbp_sys', 'nbp_dias', 'nbp_mean', 'abp_sys',\n",
    "       'abp_dias', 'abp_mean', 'temp_celcius', 'o2sat', 'resp_rate']\n",
    "\n",
    "df_vitals = df_sepsis[['icustay_id']+vitals].groupby(by='icustay_id', as_index=False).max()\n",
    "df_max = df_vitals.drop(['icustay_id'], axis=1).max(axis=1)\n",
    "keep_ids = df_vitals[~df_max.isnull()].icustay_id.unique()\n",
    "df_sepsis = df_sepsis[df_sepsis.icustay_id.isin(keep_ids)]"
   ]
  },
  {
   "cell_type": "code",
   "execution_count": 51,
   "metadata": {},
   "outputs": [
    {
     "data": {
      "text/plain": [
       "13604"
      ]
     },
     "execution_count": 51,
     "metadata": {},
     "output_type": "execute_result"
    }
   ],
   "source": [
    "len(df_sepsis.icustay_id.unique())"
   ]
  },
  {
   "cell_type": "markdown",
   "metadata": {},
   "source": [
    "Next we keep only the index hospital admission of each patient"
   ]
  },
  {
   "cell_type": "code",
   "execution_count": 52,
   "metadata": {},
   "outputs": [],
   "source": [
    "df_info = df_sepsis[['subject_id', 'icustay_id', 'intime']].drop_duplicates()\n",
    "df_info.sort_values('intime')\n",
    "df_info2 = df_info.groupby(by='subject_id', as_index=False).first()\n",
    "keep_ids = df_info2.icustay_id.unique()\n",
    "df_sepsis = df_sepsis[df_sepsis.icustay_id.isin(keep_ids)]"
   ]
  },
  {
   "cell_type": "markdown",
   "metadata": {},
   "source": [
    "Next we give a summary of what would happen in the next stage of the analysis, when we make further exclusions based on whether the patient's time of sepsis is within 4 hours of ICU admission."
   ]
  },
  {
   "cell_type": "code",
   "execution_count": 53,
   "metadata": {},
   "outputs": [
    {
     "name": "stdout",
     "output_type": "stream",
     "text": [
      "There are 11270 ICU stays after LOS, vital sign and stay exclusions\n",
      "---------------\n",
      " Looking at t_suspicion\n",
      "We will be keeping 1861 ICU stays and removing 3079\n",
      "\n",
      "---------------\n",
      " Looking at t_sofa\n",
      "We will be keeping 1220 ICU stays and removing 3720\n",
      "\n",
      "---------------\n",
      " Looking at t_sepsis_min\n",
      "We will be keeping 776 ICU stays and removing 4164\n",
      "\n",
      "---------------\n",
      " Looking at t_sepsis_max\n",
      "We will be keeping 2305 ICU stays and removing 2635\n",
      "\n"
     ]
    }
   ],
   "source": [
    "sepsis_summary(df_sepsis)"
   ]
  },
  {
   "cell_type": "code",
   "execution_count": 54,
   "metadata": {},
   "outputs": [],
   "source": [
    "df_sepsis.to_csv('../../data/raw/blood_only_sensitivity_48_24.csv',\\\n",
    "                 index=False)"
   ]
  },
  {
   "cell_type": "markdown",
   "metadata": {},
   "source": [
    "##  Other SOFA windows"
   ]
  },
  {
   "cell_type": "markdown",
   "metadata": {},
   "source": [
    "We process the data for the other SOFA windows (24,12), (12, 6), (6,3) in the same way"
   ]
  },
  {
   "cell_type": "markdown",
   "metadata": {},
   "source": [
    "#### SOFA window: (24,12)"
   ]
  },
  {
   "cell_type": "code",
   "execution_count": 55,
   "metadata": {},
   "outputs": [],
   "source": [
    "Q = \"\"\"\n",
    "with ids as (select * from train_ids union select * from val_ids)\n",
    "select e.*, s.t_suspicion, s.t_sofa, s.t_sepsis_min, s.t_sepsis_max\n",
    "from extracted_data e \n",
    "inner join ids on e.subject_id = ids.subject_id\n",
    "  inner join sepsis_cohort_time_blood_sensitivity_2412 s \n",
    "  on e.icustay_id = s.icustay_id order by subject_id, charttime\"\"\"\n",
    "df_sepsis = execute_query(Q, con, schema_name)"
   ]
  },
  {
   "cell_type": "code",
   "execution_count": 56,
   "metadata": {},
   "outputs": [],
   "source": [
    "df_sepsis = df_sepsis.drop_duplicates()"
   ]
  },
  {
   "cell_type": "markdown",
   "metadata": {},
   "source": [
    "Again, we have a few cases of duplicated times, this will be resolved later in our pipeline when we bin the data on an hourly basis. "
   ]
  },
  {
   "cell_type": "code",
   "execution_count": 57,
   "metadata": {},
   "outputs": [
    {
     "data": {
      "text/plain": [
       "11"
      ]
     },
     "execution_count": 57,
     "metadata": {},
     "output_type": "execute_result"
    }
   ],
   "source": [
    "len(df_sepsis[df_sepsis[['icustay_id', 'charttime']].duplicated()])"
   ]
  },
  {
   "cell_type": "code",
   "execution_count": 58,
   "metadata": {},
   "outputs": [],
   "source": [
    "df_sepsis_merge = df_sepsis.merge(df_care, on=['icustay_id', 'charttime'], how='inner')"
   ]
  },
  {
   "cell_type": "markdown",
   "metadata": {},
   "source": [
    "Next we again remap the ids"
   ]
  },
  {
   "cell_type": "code",
   "execution_count": 59,
   "metadata": {},
   "outputs": [
   {
     "name": "stdout",
     "output_type": "stream",
     "text": [
      "Merging new icustay_ids\n",
      "Merging new hadm_ids\n",
      "Merging new subject_ids\n"
     ]
    }
   ],
   "source": [
    "print('Merging new icustay_ids')\n",
    "\n",
    "df_newid2 = pd.merge(df_icustay_ids, df_sepsis_merge, on='icustay_id')\n",
    "\n",
    "print('Merging new hadm_ids')\n",
    "\n",
    "df_newid2 = pd.merge(df_hadm_ids, df_newid2, on='hadm_id')\n",
    "\n",
    "print('Merging new subject_ids')\n",
    "\n",
    "df_newid2 = pd.merge(df_subject_ids, df_newid2, on='subject_id')"
   ]
  },
  {
   "cell_type": "code",
   "execution_count": 60,
   "metadata": {},
   "outputs": [],
   "source": [
    "df_newid2.drop(['subject_id', 'hadm_id', 'icustay_id'], axis = 1, inplace=True)\n",
    "\n",
    "df_newid2.rename(columns={\"subject_id_random\": \"subject_id\", \"hadm_id_random\": \"hadm_id\",\\\n",
    "                          \"icustay_id_random\":\"icustay_id\"}, inplace=True)"
   ]
  },
  {
   "cell_type": "markdown",
   "metadata": {},
   "source": [
    "We move the static columns to the start of the dataframe"
   ]
  },
  {
   "cell_type": "code",
   "execution_count": 61,
   "metadata": {},
   "outputs": [],
   "source": [
    "new_columns = static_info + (df_newid2.columns.drop(static_info).tolist())\n",
    "\n",
    "df_newid2 = df_newid2[new_columns]\n",
    "\n",
    "df_sepsis = df_newid2.sort_values(['subject_id', 'charttime'])"
   ]
  },
  {
   "cell_type": "markdown",
   "metadata": {},
   "source": [
    "We see that fewer patients have been classed as having sepsis compared with previously"
   ]
  },
  {
   "cell_type": "code",
   "execution_count": 62,
   "metadata": {},
   "outputs": [
    {
     "data": {
      "text/plain": [
       "5963"
      ]
     },
     "execution_count": 62,
     "metadata": {},
     "output_type": "execute_result"
    }
   ],
   "source": [
    "len(df_sepsis[~df_sepsis.t_sepsis_min.isnull()].icustay_id.unique())"
   ]
  },
  {
   "cell_type": "code",
   "execution_count": 63,
   "metadata": {},
   "outputs": [
    {
     "data": {
      "text/plain": [
       "13971"
      ]
     },
     "execution_count": 63,
     "metadata": {},
     "output_type": "execute_result"
    }
   ],
   "source": [
    "len(df_sepsis.icustay_id.unique())"
   ]
  },
  {
   "cell_type": "markdown",
   "metadata": {},
   "source": [
    "Exclude patients whose stay was less than 4 hours and greater than 20 days, then give a summary"
   ]
  },
  {
   "cell_type": "code",
   "execution_count": 64,
   "metadata": {},
   "outputs": [],
   "source": [
    "df_sepsis = df_sepsis[(df_sepsis['outtime']<=df_sepsis['intime']+pd.Timedelta(days=20)) & \\\n",
    "             (df_sepsis['outtime']>=df_sepsis['intime']+pd.Timedelta(hours=4))]"
   ]
  },
  {
   "cell_type": "code",
   "execution_count": 65,
   "metadata": {},
   "outputs": [
    {
     "data": {
      "text/plain": [
       "13704"
      ]
     },
     "execution_count": 65,
     "metadata": {},
     "output_type": "execute_result"
    }
   ],
   "source": [
    "len(df_sepsis.icustay_id.unique())"
   ]
  },
  {
   "cell_type": "code",
   "execution_count": 66,
   "metadata": {},
   "outputs": [],
   "source": [
    "# We want to filter out patients without any vital sign data\n",
    "\n",
    "vitals = ['heart_rate', 'nbp_sys', 'nbp_dias', 'nbp_mean', 'abp_sys',\n",
    "       'abp_dias', 'abp_mean', 'temp_celcius', 'o2sat', 'resp_rate']\n",
    "\n",
    "df_vitals = df_sepsis[['icustay_id']+vitals].groupby(by='icustay_id', as_index=False).max()\n",
    "df_max = df_vitals.drop(['icustay_id'], axis=1).max(axis=1)\n",
    "keep_ids = df_vitals[~df_max.isnull()].icustay_id.unique()\n",
    "df_sepsis = df_sepsis[df_sepsis.icustay_id.isin(keep_ids)]"
   ]
  },
  {
   "cell_type": "code",
   "execution_count": 67,
   "metadata": {},
   "outputs": [
    {
     "data": {
      "text/plain": [
       "13604"
      ]
     },
     "execution_count": 67,
     "metadata": {},
     "output_type": "execute_result"
    }
   ],
   "source": [
    "len(df_sepsis.icustay_id.unique())"
   ]
  },
  {
   "cell_type": "markdown",
   "metadata": {},
   "source": [
    "Next we keep only the index hospital admission of each patient"
   ]
  },
  {
   "cell_type": "code",
   "execution_count": 68,
   "metadata": {},
   "outputs": [],
   "source": [
    "df_info = df_sepsis[['subject_id', 'icustay_id', 'intime']].drop_duplicates()\n",
    "df_info.sort_values('intime')\n",
    "df_info2 = df_info.groupby(by='subject_id', as_index=False).first()\n",
    "keep_ids = df_info2.icustay_id.unique()\n",
    "df_sepsis = df_sepsis[df_sepsis.icustay_id.isin(keep_ids)]"
   ]
  },
  {
   "cell_type": "code",
   "execution_count": 69,
   "metadata": {},
   "outputs": [
    {
     "name": "stdout",
     "output_type": "stream",
     "text": [
      "There are 11270 ICU stays after LOS, vital sign and stay exclusions\n",
      "---------------\n",
      " Looking at t_suspicion\n",
      "We will be keeping 1733 ICU stays and removing 2901\n",
      "\n",
      "---------------\n",
      " Looking at t_sofa\n",
      "We will be keeping 1117 ICU stays and removing 3517\n",
      "\n",
      "---------------\n",
      " Looking at t_sepsis_min\n",
      "We will be keeping 815 ICU stays and removing 3819\n",
      "\n",
      "---------------\n",
      " Looking at t_sepsis_max\n",
      "We will be keeping 2035 ICU stays and removing 2599\n",
      "\n"
     ]
    }
   ],
   "source": [
    "sepsis_summary(df_sepsis)"
   ]
  },
  {
   "cell_type": "code",
   "execution_count": 70,
   "metadata": {},
   "outputs": [],
   "source": [
    "df_sepsis.to_csv('../../data/raw/blood_only_sensitivity_24_12.csv',\\\n",
    "                 index=False)"
   ]
  },
  {
   "cell_type": "markdown",
   "metadata": {},
   "source": [
    "#### SOFA window: (12,6)"
   ]
  },
  {
   "cell_type": "code",
   "execution_count": 71,
   "metadata": {},
   "outputs": [],
   "source": [
    "Q = \"\"\"\n",
    "with ids as (select * from train_ids union select * from val_ids)\n",
    "select e.*, s.t_suspicion, s.t_sofa, s.t_sepsis_min, s.t_sepsis_max\n",
    "from extracted_data e \n",
    "inner join ids on e.subject_id = ids.subject_id\n",
    "  inner join sepsis_cohort_time_blood_sensitivity_126 s \n",
    "  on e.icustay_id = s.icustay_id order by subject_id, charttime\"\"\"\n",
    "df_sepsis = execute_query(Q, con, schema_name)"
   ]
  },
  {
   "cell_type": "code",
   "execution_count": 72,
   "metadata": {},
   "outputs": [],
   "source": [
    "df_sepsis = df_sepsis.drop_duplicates()"
   ]
  },
  {
   "cell_type": "markdown",
   "metadata": {},
   "source": [
    "Note the same issue with a few duplicate chartime points remains"
   ]
  },
  {
   "cell_type": "code",
   "execution_count": 73,
   "metadata": {},
   "outputs": [
    {
     "data": {
      "text/plain": [
       "11"
      ]
     },
     "execution_count": 73,
     "metadata": {},
     "output_type": "execute_result"
    }
   ],
   "source": [
    "len(df_sepsis[df_sepsis[['icustay_id', 'charttime']].duplicated()])"
   ]
  },
  {
   "cell_type": "code",
   "execution_count": 74,
   "metadata": {},
   "outputs": [],
   "source": [
    "df_sepsis_merge = df_sepsis.merge(df_care, on=['icustay_id', 'charttime'], how='inner')"
   ]
  },
  {
   "cell_type": "markdown",
   "metadata": {},
   "source": [
    "Next we again remap the ids"
   ]
  },
  {
   "cell_type": "code",
   "execution_count": 75,
   "metadata": {},
   "outputs": [
   {
     "name": "stdout",
     "output_type": "stream",
     "text": [
      "Merging new icustay_ids\n",
      "Merging new hadm_ids\n",
      "Merging new subject_ids\n"
     ]
    }
   ],
   "source": [
    "print('Merging new icustay_ids')\n",
    "\n",
    "df_newid2 = pd.merge(df_icustay_ids, df_sepsis_merge, on='icustay_id')\n",
    "\n",
    "print('Merging new hadm_ids')\n",
    "\n",
    "df_newid2 = pd.merge(df_hadm_ids, df_newid2, on='hadm_id')\n",
    "\n",
    "print('Merging new subject_ids')\n",
    "\n",
    "df_newid2 = pd.merge(df_subject_ids, df_newid2, on='subject_id')"
   ]
  },
  {
   "cell_type": "code",
   "execution_count": 76,
   "metadata": {},
   "outputs": [],
   "source": [
    "df_newid2.drop(['subject_id', 'hadm_id', 'icustay_id'], axis = 1, inplace=True)\n",
    "\n",
    "df_newid2.rename(columns={\"subject_id_random\": \"subject_id\", \"hadm_id_random\": \"hadm_id\",\\\n",
    "                          \"icustay_id_random\":\"icustay_id\"}, inplace=True)"
   ]
  },
  {
   "cell_type": "markdown",
   "metadata": {},
   "source": [
    "We move the static columns to the start of the dataframe"
   ]
  },
  {
   "cell_type": "code",
   "execution_count": 77,
   "metadata": {},
   "outputs": [],
   "source": [
    "new_columns = static_info + (df_newid2.columns.drop(static_info).tolist())\n",
    "\n",
    "df_newid2 = df_newid2[new_columns]\n",
    "\n",
    "df_sepsis = df_newid2.sort_values(['subject_id', 'charttime'])"
   ]
  },
  {
   "cell_type": "markdown",
   "metadata": {},
   "source": [
    "Again we see that the number of people with sepsis is decreasing with a decreased window size"
   ]
  },
  {
   "cell_type": "code",
   "execution_count": 78,
   "metadata": {},
   "outputs": [
    {
     "data": {
      "text/plain": [
       "5279"
      ]
     },
     "execution_count": 78,
     "metadata": {},
     "output_type": "execute_result"
    }
   ],
   "source": [
    "len(df_sepsis[~df_sepsis.t_sepsis_min.isnull()].icustay_id.unique())"
   ]
  },
  {
   "cell_type": "code",
   "execution_count": 79,
   "metadata": {},
   "outputs": [
    {
     "data": {
      "text/plain": [
       "13971"
      ]
     },
     "execution_count": 79,
     "metadata": {},
     "output_type": "execute_result"
    }
   ],
   "source": [
    "len(df_sepsis.icustay_id.unique())"
   ]
  },
  {
   "cell_type": "markdown",
   "metadata": {},
   "source": [
    "Exclude patients based on length of stay and print summary for future exclusions"
   ]
  },
  {
   "cell_type": "code",
   "execution_count": 80,
   "metadata": {},
   "outputs": [],
   "source": [
    "df_sepsis = df_sepsis[(df_sepsis['outtime']<=df_sepsis['intime']+pd.Timedelta(days=20)) & \\\n",
    "             (df_sepsis['outtime']>=df_sepsis['intime']+pd.Timedelta(hours=4))]"
   ]
  },
  {
   "cell_type": "code",
   "execution_count": 81,
   "metadata": {},
   "outputs": [
    {
     "data": {
      "text/plain": [
       "13704"
      ]
     },
     "execution_count": 81,
     "metadata": {},
     "output_type": "execute_result"
    }
   ],
   "source": [
    "len(df_sepsis.icustay_id.unique())"
   ]
  },
  {
   "cell_type": "code",
   "execution_count": 82,
   "metadata": {},
   "outputs": [],
   "source": [
    "# We want to filter out patients without any vital sign data\n",
    "\n",
    "vitals = ['heart_rate', 'nbp_sys', 'nbp_dias', 'nbp_mean', 'abp_sys',\n",
    "       'abp_dias', 'abp_mean', 'temp_celcius', 'o2sat', 'resp_rate']\n",
    "\n",
    "df_vitals = df_sepsis[['icustay_id']+vitals].groupby(by='icustay_id', as_index=False).max()\n",
    "df_max = df_vitals.drop(['icustay_id'], axis=1).max(axis=1)\n",
    "keep_ids = df_vitals[~df_max.isnull()].icustay_id.unique()\n",
    "df_sepsis = df_sepsis[df_sepsis.icustay_id.isin(keep_ids)]"
   ]
  },
  {
   "cell_type": "code",
   "execution_count": 83,
   "metadata": {},
   "outputs": [
    {
     "data": {
      "text/plain": [
       "13604"
      ]
     },
     "execution_count": 83,
     "metadata": {},
     "output_type": "execute_result"
    }
   ],
   "source": [
    "len(df_sepsis.icustay_id.unique())"
   ]
  },
  {
   "cell_type": "markdown",
   "metadata": {},
   "source": [
    "Next we keep only the index hospital admission of each patient"
   ]
  },
  {
   "cell_type": "code",
   "execution_count": 84,
   "metadata": {},
   "outputs": [],
   "source": [
    "df_info = df_sepsis[['subject_id', 'icustay_id', 'intime']].drop_duplicates()\n",
    "df_info.sort_values('intime')\n",
    "df_info2 = df_info.groupby(by='subject_id', as_index=False).first()\n",
    "keep_ids = df_info2.icustay_id.unique()\n",
    "df_sepsis = df_sepsis[df_sepsis.icustay_id.isin(keep_ids)]"
   ]
  },
  {
   "cell_type": "code",
   "execution_count": 85,
   "metadata": {},
   "outputs": [
    {
     "name": "stdout",
     "output_type": "stream",
     "text": [
      "There are 11270 ICU stays after LOS, vital sign and stay exclusions\n",
      "---------------\n",
      " Looking at t_suspicion\n",
      "We will be keeping 1514 ICU stays and removing 2562\n",
      "\n",
      "---------------\n",
      " Looking at t_sofa\n",
      "We will be keeping 941 ICU stays and removing 3135\n",
      "\n",
      "---------------\n",
      " Looking at t_sepsis_min\n",
      "We will be keeping 823 ICU stays and removing 3253\n",
      "\n",
      "---------------\n",
      " Looking at t_sepsis_max\n",
      "We will be keeping 1632 ICU stays and removing 2444\n",
      "\n"
     ]
    }
   ],
   "source": [
    "sepsis_summary(df_sepsis)"
   ]
  },
  {
   "cell_type": "code",
   "execution_count": 86,
   "metadata": {},
   "outputs": [],
   "source": [
    "df_sepsis.to_csv('../../data/raw/blood_only_sensitivity_12_6.csv',\\\n",
    "                 index=False)"
   ]
  },
  {
   "cell_type": "markdown",
   "metadata": {},
   "source": [
    "#### SOFA window: (6,3)"
   ]
  },
  {
   "cell_type": "code",
   "execution_count": 87,
   "metadata": {},
   "outputs": [],
   "source": [
    "Q = \"\"\"\n",
    "with ids as (select * from train_ids union select * from val_ids)\n",
    "select e.*, s.t_suspicion, s.t_sofa, s.t_sepsis_min, s.t_sepsis_max\n",
    "from extracted_data e \n",
    "inner join ids on e.subject_id = ids.subject_id\n",
    "  inner join sepsis_cohort_time_blood_sensitivity_63 s \n",
    "  on e.icustay_id = s.icustay_id order by subject_id, charttime\"\"\"\n",
    "df_sepsis = execute_query(Q, con, schema_name)"
   ]
  },
  {
   "cell_type": "code",
   "execution_count": 88,
   "metadata": {},
   "outputs": [],
   "source": [
    "df_sepsis = df_sepsis.drop_duplicates()"
   ]
  },
  {
   "cell_type": "code",
   "execution_count": 89,
   "metadata": {},
   "outputs": [
    {
     "data": {
      "text/plain": [
       "11"
      ]
     },
     "execution_count": 89,
     "metadata": {},
     "output_type": "execute_result"
    }
   ],
   "source": [
    "len(df_sepsis[df_sepsis[['icustay_id', 'charttime']].duplicated()])"
   ]
  },
  {
   "cell_type": "code",
   "execution_count": 90,
   "metadata": {},
   "outputs": [],
   "source": [
    "df_sepsis_merge = df_sepsis.merge(df_care, on=['icustay_id', 'charttime'], how='inner')"
   ]
  },
  {
   "cell_type": "markdown",
   "metadata": {},
   "source": [
    "Next we again remap the ids"
   ]
  },
  {
   "cell_type": "code",
   "execution_count": 91,
   "metadata": {},
   "outputs": [
   {
     "name": "stdout",
     "output_type": "stream",
     "text": [
      "Merging new icustay_ids\n",
      "Merging new hadm_ids\n",
      "Merging new subject_ids\n"
     ]
    }
   ],
   "source": [
    "print('Merging new icustay_ids')\n",
    "\n",
    "df_newid2 = pd.merge(df_icustay_ids, df_sepsis_merge, on='icustay_id')\n",
    "\n",
    "print('Merging new hadm_ids')\n",
    "\n",
    "df_newid2 = pd.merge(df_hadm_ids, df_newid2, on='hadm_id')\n",
    "\n",
    "print('Merging new subject_ids')\n",
    "\n",
    "df_newid2 = pd.merge(df_subject_ids, df_newid2, on='subject_id')"
   ]
  },
  {
   "cell_type": "code",
   "execution_count": 92,
   "metadata": {},
   "outputs": [],
   "source": [
    "df_newid2.drop(['subject_id', 'hadm_id', 'icustay_id'], axis = 1, inplace=True)\n",
    "\n",
    "df_newid2.rename(columns={\"subject_id_random\": \"subject_id\", \"hadm_id_random\": \"hadm_id\",\\\n",
    "                          \"icustay_id_random\":\"icustay_id\"}, inplace=True)"
   ]
  },
  {
   "cell_type": "markdown",
   "metadata": {},
   "source": [
    "We move the static columns to the start of the dataframe"
   ]
  },
  {
   "cell_type": "code",
   "execution_count": 93,
   "metadata": {},
   "outputs": [],
   "source": [
    "new_columns = static_info + (df_newid2.columns.drop(static_info).tolist())\n",
    "\n",
    "df_newid2 = df_newid2[new_columns]\n",
    "\n",
    "df_sepsis = df_newid2.sort_values(['subject_id', 'charttime'])"
   ]
  },
  {
   "cell_type": "markdown",
   "metadata": {},
   "source": [
    "We note that by reducing the SOFA window from (48,24) to (6,3), there is a large reduction of patients identified with sepsis, from around 6000 to around 4000."
   ]
  },
  {
   "cell_type": "code",
   "execution_count": 94,
   "metadata": {},
   "outputs": [
    {
     "data": {
      "text/plain": [
       "4134"
      ]
     },
     "execution_count": 94,
     "metadata": {},
     "output_type": "execute_result"
    }
   ],
   "source": [
    "len(df_sepsis[~df_sepsis.t_sepsis_min.isnull()].icustay_id.unique())"
   ]
  },
  {
   "cell_type": "code",
   "execution_count": 95,
   "metadata": {},
   "outputs": [
    {
     "data": {
      "text/plain": [
       "13971"
      ]
     },
     "execution_count": 95,
     "metadata": {},
     "output_type": "execute_result"
    }
   ],
   "source": [
    "len(df_sepsis.icustay_id.unique())"
   ]
  },
  {
   "cell_type": "markdown",
   "metadata": {},
   "source": [
    "Exclude patients based on length of stay and print summary for future exclusions"
   ]
  },
  {
   "cell_type": "code",
   "execution_count": 96,
   "metadata": {},
   "outputs": [],
   "source": [
    "df_sepsis = df_sepsis[(df_sepsis['outtime'] <= df_sepsis['intime']+pd.Timedelta(days=20)) & \\\n",
    "             (df_sepsis['outtime'] >= df_sepsis['intime']+pd.Timedelta(hours=4))]"
   ]
  },
  {
   "cell_type": "code",
   "execution_count": 97,
   "metadata": {},
   "outputs": [
    {
     "data": {
      "text/plain": [
       "13704"
      ]
     },
     "execution_count": 97,
     "metadata": {},
     "output_type": "execute_result"
    }
   ],
   "source": [
    "len(df_sepsis.icustay_id.unique())"
   ]
  },
  {
   "cell_type": "code",
   "execution_count": 98,
   "metadata": {},
   "outputs": [],
   "source": [
    "# We want to filter out patients without any vital sign data\n",
    "\n",
    "vitals = ['heart_rate', 'nbp_sys', 'nbp_dias', 'nbp_mean', 'abp_sys',\n",
    "       'abp_dias', 'abp_mean', 'temp_celcius', 'o2sat', 'resp_rate']\n",
    "\n",
    "df_vitals = df_sepsis[['icustay_id']+vitals].groupby(by='icustay_id', as_index=False).max()\n",
    "df_max = df_vitals.drop(['icustay_id'], axis=1).max(axis=1)\n",
    "keep_ids = df_vitals[~df_max.isnull()].icustay_id.unique()\n",
    "df_sepsis = df_sepsis[df_sepsis.icustay_id.isin(keep_ids)]"
   ]
  },
  {
   "cell_type": "code",
   "execution_count": 99,
   "metadata": {},
   "outputs": [
    {
     "data": {
      "text/plain": [
       "13604"
      ]
     },
     "execution_count": 99,
     "metadata": {},
     "output_type": "execute_result"
    }
   ],
   "source": [
    "len(df_sepsis.icustay_id.unique())"
   ]
  },
  {
   "cell_type": "markdown",
   "metadata": {},
   "source": [
    "Next we keep only the index hospital admission of each patient"
   ]
  },
  {
   "cell_type": "code",
   "execution_count": 100,
   "metadata": {},
   "outputs": [],
   "source": [
    "df_info = df_sepsis[['subject_id', 'icustay_id', 'intime']].drop_duplicates()\n",
    "df_info.sort_values('intime')\n",
    "df_info2 = df_info.groupby(by='subject_id', as_index=False).first()\n",
    "keep_ids = df_info2.icustay_id.unique()\n",
    "df_sepsis = df_sepsis[df_sepsis.icustay_id.isin(keep_ids)]"
   ]
  },
  {
   "cell_type": "code",
   "execution_count": 101,
   "metadata": {},
   "outputs": [
    {
     "name": "stdout",
     "output_type": "stream",
     "text": [
      "There are 11270 ICU stays after LOS, vital sign and stay exclusions\n",
      "---------------\n",
      " Looking at t_suspicion\n",
      "We will be keeping 1059 ICU stays and removing 2091\n",
      "\n",
      "---------------\n",
      " Looking at t_sofa\n",
      "We will be keeping 783 ICU stays and removing 2367\n",
      "\n",
      "---------------\n",
      " Looking at t_sepsis_min\n",
      "We will be keeping 737 ICU stays and removing 2413\n",
      "\n",
      "---------------\n",
      " Looking at t_sepsis_max\n",
      "We will be keeping 1105 ICU stays and removing 2045\n",
      "\n"
     ]
    }
   ],
   "source": [
    "sepsis_summary(df_sepsis)"
   ]
  },
  {
   "cell_type": "code",
   "execution_count": 102,
   "metadata": {},
   "outputs": [],
   "source": [
    "df_sepsis.to_csv('../../data/raw/blood_only_sensitivity_6_3.csv',\\\n",
    "                 index=False)"
   ]
  },
  {
   "cell_type": "markdown",
   "metadata": {},
   "source": [
    "## Other sensitivity analysis"
   ]
  },
  {
   "cell_type": "markdown",
   "metadata": {},
   "source": [
    "We also check sensitivity on blood cultures (whether to use all cultures or not), SOFA score (whether to use absolute value or change in score) and CNS component (whether it adds unnecessary noise). For the other sensitivity analysis, we will use a SOFA window of (24,12) for all of them."
   ]
  },
  {
   "cell_type": "markdown",
   "metadata": {},
   "source": [
    "### Sepsis - Other cultures "
   ]
  },
  {
   "cell_type": "markdown",
   "metadata": {},
   "source": [
    "Now we extract the sepsis onset time that we get by using a more general list of cultures taken rather just than those relating to blood cultures. We expect that this may increase the sensitivity at a much decreased specificity. This is slightly different to the approach taken in some other papers where all culture types were used."
   ]
  },
  {
   "cell_type": "code",
   "execution_count": 103,
   "metadata": {},
   "outputs": [],
   "source": [
    "Q = \"\"\"\n",
    "with ids as (select * from train_ids union select * from val_ids)\n",
    "select e.*, s.t_suspicion, s.t_sofa, s.t_sepsis_min, s.t_sepsis_max\n",
    "from extracted_data e \n",
    "inner join ids on e.subject_id = ids.subject_id\n",
    "  inner join sepsis_cohort_time_cultures_2412 s \n",
    "  on e.icustay_id = s.icustay_id order by subject_id, charttime\"\"\"\n",
    "df_sepsis = execute_query(Q, con, schema_name)"
   ]
  },
  {
   "cell_type": "code",
   "execution_count": 104,
   "metadata": {},
   "outputs": [],
   "source": [
    "df_sepsis = df_sepsis.drop_duplicates()"
   ]
  },
  {
   "cell_type": "code",
   "execution_count": 105,
   "metadata": {},
   "outputs": [
    {
     "data": {
      "text/plain": [
       "11"
      ]
     },
     "execution_count": 105,
     "metadata": {},
     "output_type": "execute_result"
    }
   ],
   "source": [
    "len(df_sepsis[df_sepsis[['icustay_id', 'charttime']].duplicated()])"
   ]
  },
  {
   "cell_type": "code",
   "execution_count": 106,
   "metadata": {},
   "outputs": [],
   "source": [
    "df_sepsis_merge = df_sepsis.merge(df_care, on=['icustay_id', 'charttime'], how='inner')"
   ]
  },
  {
   "cell_type": "markdown",
   "metadata": {},
   "source": [
    "Next we again remap the ids"
   ]
  },
  {
   "cell_type": "code",
   "execution_count": 107,
   "metadata": {},
   "outputs": [
   {
     "name": "stdout",
     "output_type": "stream",
     "text": [
      "Merging new icustay_ids\n",
      "Merging new hadm_ids\n",
      "Merging new subject_ids\n"
     ]
    }
   ],
   "source": [
    "print('Merging new icustay_ids')\n",
    "\n",
    "df_newid2 = pd.merge(df_icustay_ids, df_sepsis_merge, on='icustay_id')\n",
    "\n",
    "print('Merging new hadm_ids')\n",
    "\n",
    "df_newid2 = pd.merge(df_hadm_ids, df_newid2, on='hadm_id')\n",
    "\n",
    "print('Merging new subject_ids')\n",
    "\n",
    "df_newid2 = pd.merge(df_subject_ids, df_newid2, on='subject_id')"
   ]
  },
  {
   "cell_type": "code",
   "execution_count": 108,
   "metadata": {},
   "outputs": [],
   "source": [
    "df_newid2.drop(['subject_id', 'hadm_id', 'icustay_id'], axis = 1, inplace=True)\n",
    "\n",
    "df_newid2.rename(columns={\"subject_id_random\": \"subject_id\", \"hadm_id_random\": \"hadm_id\",\\\n",
    "                          \"icustay_id_random\":\"icustay_id\"}, inplace=True)"
   ]
  },
  {
   "cell_type": "markdown",
   "metadata": {},
   "source": [
    "We move the static columns to the start of the dataframe"
   ]
  },
  {
   "cell_type": "code",
   "execution_count": 109,
   "metadata": {},
   "outputs": [],
   "source": [
    "new_columns = static_info + (df_newid2.columns.drop(static_info).tolist())\n",
    "\n",
    "df_newid2 = df_newid2[new_columns]\n",
    "\n",
    "df_sepsis = df_newid2.sort_values(['subject_id', 'charttime'])"
   ]
  },
  {
   "cell_type": "markdown",
   "metadata": {},
   "source": [
    "We see that with the inclusion of all cultures, a greater number of people have been flagged as having sepsis (compared with the 5961 of the blood cultures)"
   ]
  },
  {
   "cell_type": "code",
   "execution_count": 110,
   "metadata": {},
   "outputs": [
    {
     "data": {
      "text/plain": [
       "5981"
      ]
     },
     "execution_count": 110,
     "metadata": {},
     "output_type": "execute_result"
    }
   ],
   "source": [
    "len(df_sepsis[~df_sepsis.t_sepsis_min.isnull()].icustay_id.unique())"
   ]
  },
  {
   "cell_type": "code",
   "execution_count": 111,
   "metadata": {},
   "outputs": [
    {
     "data": {
      "text/plain": [
       "13971"
      ]
     },
     "execution_count": 111,
     "metadata": {},
     "output_type": "execute_result"
    }
   ],
   "source": [
    "len(df_sepsis.icustay_id.unique())"
   ]
  },
  {
   "cell_type": "markdown",
   "metadata": {},
   "source": [
    "Exclude patients based on length of stay and print summary for future exclusions"
   ]
  },
  {
   "cell_type": "code",
   "execution_count": 112,
   "metadata": {},
   "outputs": [],
   "source": [
    "df_sepsis = df_sepsis[(df_sepsis['outtime']<=df_sepsis['intime']+pd.Timedelta(days=20)) & \\\n",
    "             (df_sepsis['outtime']>=df_sepsis['intime']+pd.Timedelta(hours=4))]"
   ]
  },
  {
   "cell_type": "code",
   "execution_count": 113,
   "metadata": {},
   "outputs": [
    {
     "data": {
      "text/plain": [
       "13704"
      ]
     },
     "execution_count": 113,
     "metadata": {},
     "output_type": "execute_result"
    }
   ],
   "source": [
    "len(df_sepsis.icustay_id.unique())"
   ]
  },
  {
   "cell_type": "code",
   "execution_count": 114,
   "metadata": {},
   "outputs": [],
   "source": [
    "# We want to filter out patients without any vital sign data\n",
    "\n",
    "vitals = ['heart_rate', 'nbp_sys', 'nbp_dias', 'nbp_mean', 'abp_sys',\n",
    "       'abp_dias', 'abp_mean', 'temp_celcius', 'o2sat', 'resp_rate']\n",
    "\n",
    "df_vitals = df_sepsis[['icustay_id']+vitals].groupby(by='icustay_id', as_index=False).max()\n",
    "df_max = df_vitals.drop(['icustay_id'], axis=1).max(axis=1)\n",
    "keep_ids = df_vitals[~df_max.isnull()].icustay_id.unique()\n",
    "df_sepsis = df_sepsis[df_sepsis.icustay_id.isin(keep_ids)]"
   ]
  },
  {
   "cell_type": "code",
   "execution_count": 115,
   "metadata": {},
   "outputs": [
    {
     "data": {
      "text/plain": [
       "13604"
      ]
     },
     "execution_count": 115,
     "metadata": {},
     "output_type": "execute_result"
    }
   ],
   "source": [
    "len(df_sepsis.icustay_id.unique())"
   ]
  },
  {
   "cell_type": "markdown",
   "metadata": {},
   "source": [
    "Next we keep only the index hospital admission of each patient"
   ]
  },
  {
   "cell_type": "code",
   "execution_count": 116,
   "metadata": {},
   "outputs": [],
   "source": [
    "df_info = df_sepsis[['subject_id', 'icustay_id', 'intime']].drop_duplicates()\n",
    "df_info.sort_values('intime')\n",
    "df_info2 = df_info.groupby(by='subject_id', as_index=False).first()\n",
    "keep_ids = df_info2.icustay_id.unique()\n",
    "df_sepsis = df_sepsis[df_sepsis.icustay_id.isin(keep_ids)]"
   ]
  },
  {
   "cell_type": "code",
   "execution_count": 117,
   "metadata": {},
   "outputs": [
    {
     "name": "stdout",
     "output_type": "stream",
     "text": [
      "There are 11270 ICU stays after LOS, vital sign and stay exclusions\n",
      "---------------\n",
      " Looking at t_suspicion\n",
      "We will be keeping 1426 ICU stays and removing 3203\n",
      "\n",
      "---------------\n",
      " Looking at t_sofa\n",
      "We will be keeping 1086 ICU stays and removing 3543\n",
      "\n",
      "---------------\n",
      " Looking at t_sepsis_min\n",
      "We will be keeping 724 ICU stays and removing 3905\n",
      "\n",
      "---------------\n",
      " Looking at t_sepsis_max\n",
      "We will be keeping 1788 ICU stays and removing 2841\n",
      "\n"
     ]
    }
   ],
   "source": [
    "sepsis_summary(df_sepsis)"
   ]
  },
  {
   "cell_type": "code",
   "execution_count": 118,
   "metadata": {},
   "outputs": [],
   "source": [
    "df_sepsis.to_csv('../../data/raw/other_cultures_sensitivity_24_12.csv',\\\n",
    "                 index=False)"
   ]
  },
  {
   "cell_type": "code",
   "execution_count": 119,
   "metadata": {},
   "outputs": [],
   "source": [
    "con.close()"
   ]
  }
 ],
 "metadata": {
  "hide_input": false,
  "kernelspec": {
   "display_name": "Python 3",
   "language": "python",
   "name": "python3"
  },
  "language_info": {
   "codemirror_mode": {
    "name": "ipython",
    "version": 3
   },
   "file_extension": ".py",
   "mimetype": "text/x-python",
   "name": "python",
   "nbconvert_exporter": "python",
   "pygments_lexer": "ipython3",
   "version": "3.7.7"
  }
 },
 "nbformat": 4,
 "nbformat_minor": 4
}
