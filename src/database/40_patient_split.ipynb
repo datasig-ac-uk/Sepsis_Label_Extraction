{
 "cells": [
  {
   "cell_type": "markdown",
   "metadata": {},
   "source": [
    "# Split the patient ids into train/val/test"
   ]
  },
  {
   "cell_type": "markdown",
   "metadata": {},
   "source": [
    "In this notebook, we split the ids into train/validation/test in the proportion 70/15/15 by stratified sampling on gender, age, length of stay and whether the patient received ventilation. These are then stored in the files `train_ids.csv`, `test_ids1.csv`, `test_ids2.csv` (for train, validation and test respectively). Note that in the end, it was agreed we will use cross-validation instead of having a separate validation set, therefore we actually merged the train and validation ids (as we see in the `tables_to_csv_final.ipynb` notebook) to form the 'training set'. The test set corresponds to the ids in `test_ids2.csv`.\n",
    "\n",
    "Note that this notebook demonstrates the procedures we used to get our ids. However, the split that we arrive at will not be identical to the one we used in our experiment, this is because the split we used was performed on an earlier version of the data.\n",
    "\n",
    "We made quite a few changes afterwards. Even though subsequently, we have 173 more subject_ids, it turns out that those do not have any vital sign information, and therefore it is reasonable to exclude those. Therefore, since splitting on\n",
    "\n",
    "If replication of our experiment is desired, then the section of the end of this notebook will show you how. There we call our old merge data SQL file to get the dataframe, from which we can obtain the identical set of ids through stratified sampling."
   ]
  },
  {
   "cell_type": "code",
   "execution_count": 1,
   "metadata": {},
   "outputs": [],
   "source": [
    "import numpy as np\n",
    "import pandas as pd\n",
    "import matplotlib.pyplot as plt\n",
    "import psycopg2\n",
    "from sklearn.model_selection import train_test_split"
   ]
  },
  {
   "cell_type": "markdown",
   "metadata": {},
   "source": [
    "## 1. Accessing MIMIC database with SQL queries"
   ]
  },
  {
   "cell_type": "code",
   "execution_count": 2,
   "metadata": {},
   "outputs": [],
   "source": [
    "sqluser = 'mimicuser' \n",
    "dbname = 'mimic'"
   ]
  },
  {
   "cell_type": "code",
   "execution_count": 3,
   "metadata": {},
   "outputs": [],
   "source": [
    "schema_name = 'mimiciii'\n",
    "query_schema = 'SET search_path to public,' + schema_name + ';'"
   ]
  },
  {
   "cell_type": "code",
   "execution_count": 4,
   "metadata": {},
   "outputs": [
    {
     "name": "stdout",
     "output_type": "stream",
     "text": [
      "········\n"
     ]
    }
   ],
   "source": [
    "import getpass\n",
    "password = getpass.getpass() "
   ]
  },
  {
   "cell_type": "code",
   "execution_count": 5,
   "metadata": {},
   "outputs": [],
   "source": [
    "# Connect to local postgres version of mimic\n",
    "con = psycopg2.connect(dbname=dbname, user=sqluser, host=\"localhost\", password=password)"
   ]
  },
  {
   "cell_type": "code",
   "execution_count": 6,
   "metadata": {},
   "outputs": [],
   "source": [
    "def load_from_sql(script, con, schema_name):\n",
    "        # Read the SQL query from the provided sql script\n",
    "        f = open(script, 'r')\n",
    "        sql_query = f.read()\n",
    "        f.close()\n",
    "        df = execute_query(sql_query, con, schema_name)\n",
    "        return df\n",
    "\n",
    "def execute_query(query, con, schema_name):\n",
    "    cur = con.cursor()\n",
    "    cur.execute('SET search_path to ' + schema_name)\n",
    "    return pd.read_sql_query(query,con)"
   ]
  },
  {
   "cell_type": "code",
   "execution_count": 7,
   "metadata": {},
   "outputs": [],
   "source": [
    "pd.set_option('display.max_columns', None)"
   ]
  },
  {
   "cell_type": "markdown",
   "metadata": {},
   "source": [
    "### Splitting the data on non-infants by subject_id"
   ]
  },
  {
   "cell_type": "markdown",
   "metadata": {},
   "source": [
    "In this section, we demonstrate how to split our data into 70% train, 15% validation and 15% test data by stratifying on age, gender, length of stay, and whether the patient was ever ventilated. \n",
    "\n",
    "First we select those columns that we are interested in, note that in our extraction process, all the infants have been removed."
   ]
  },
  {
   "cell_type": "code",
   "execution_count": 8,
   "metadata": {},
   "outputs": [],
   "source": [
    "query = query_schema + \\\n",
    "\"\"\"\n",
    "select subject_id, icustay_id, age, gender, los_icu, on_vent, heart_rate,\n",
    "       heart_rhythm, nbp_sys, nbp_dias, nbp_mean, abp_sys,\n",
    "       abp_dias, abp_mean, temp_site, temp_celcius, verbal_response,\n",
    "       o2sat, resp_rate, resp_rate_spont, resp_rate_set,\n",
    "       resp_rate_total, minute_vol, mean_airway_pressure,\n",
    "       peak_insp_rate, plateau_pressure, o2flow_chart, o2_device,\n",
    "       vent_mode, tidal_vol_set, tidal_vol_obs,\n",
    "       tidal_vol_spon, peep_set, fio2_chart, glucose_chart\n",
    "from extracted_data\n",
    "\"\"\"\n",
    "\n",
    "df = pd.read_sql_query(query,con)"
   ]
  },
  {
   "cell_type": "code",
   "execution_count": 9,
   "metadata": {},
   "outputs": [
    {
     "data": {
      "text/plain": [
       "14.9107"
      ]
     },
     "execution_count": 9,
     "metadata": {},
     "output_type": "execute_result"
    }
   ],
   "source": [
    "min(df.age)"
   ]
  },
  {
   "cell_type": "markdown",
   "metadata": {},
   "source": [
    "Next there are some people without any key vital signs that we remove. It is a reasonble exclusion to make as these are typically easy to measure and important for a lot of medical scores. "
   ]
  },
  {
   "cell_type": "code",
   "execution_count": 10,
   "metadata": {},
   "outputs": [],
   "source": [
    "df['vitals'] = df[['heart_rhythm', 'nbp_sys', 'nbp_dias', 'nbp_mean', 'abp_sys',\n",
    "       'abp_dias', 'abp_mean', 'temp_celcius', 'o2sat', 'resp_rate']].min(axis=1)"
   ]
  },
  {
   "cell_type": "code",
   "execution_count": 11,
   "metadata": {},
   "outputs": [],
   "source": [
    "keep_ids = df[~df.vitals.isnull()].subject_id.unique()"
   ]
  },
  {
   "cell_type": "code",
   "execution_count": 12,
   "metadata": {},
   "outputs": [],
   "source": [
    "df2 = df[df.subject_id.isin(keep_ids)]"
   ]
  },
  {
   "cell_type": "markdown",
   "metadata": {},
   "source": [
    "Next we create a dataframe with all the key columns that we want to do stratified sampling on."
   ]
  },
  {
   "cell_type": "code",
   "execution_count": 13,
   "metadata": {},
   "outputs": [],
   "source": [
    "df_key = df2[['subject_id','age', 'gender', 'los_icu','on_vent']].drop_duplicates()"
   ]
  },
  {
   "cell_type": "code",
   "execution_count": 14,
   "metadata": {},
   "outputs": [
    {
     "data": {
      "text/plain": [
       "24878"
      ]
     },
     "execution_count": 14,
     "metadata": {},
     "output_type": "execute_result"
    }
   ],
   "source": [
    "sum(df_key.on_vent)"
   ]
  },
  {
   "cell_type": "code",
   "execution_count": 15,
   "metadata": {},
   "outputs": [
    {
     "data": {
      "text/plain": [
       "38417"
      ]
     },
     "execution_count": 15,
     "metadata": {},
     "output_type": "execute_result"
    }
   ],
   "source": [
    "len(df_key.subject_id.unique())"
   ]
  },
  {
   "cell_type": "markdown",
   "metadata": {},
   "source": [
    "Next we group together the information across multiple visit for each patient."
   ]
  },
  {
   "cell_type": "code",
   "execution_count": 16,
   "metadata": {},
   "outputs": [],
   "source": [
    "los = df_key.groupby('subject_id', as_index=False)['los_icu'].sum()"
   ]
  },
  {
   "cell_type": "code",
   "execution_count": 17,
   "metadata": {},
   "outputs": [],
   "source": [
    "vent = df_key.groupby('subject_id', as_index=False)['on_vent'].max()"
   ]
  },
  {
   "cell_type": "code",
   "execution_count": 18,
   "metadata": {},
   "outputs": [],
   "source": [
    "max_age = df_key.groupby('subject_id', as_index=False)['age'].max()"
   ]
  },
  {
   "cell_type": "code",
   "execution_count": 19,
   "metadata": {},
   "outputs": [],
   "source": [
    "df_key2 = df_key[['subject_id', 'gender']].drop_duplicates()\n",
    "df_key3 = pd.merge(df_key2, vent, left_on='subject_id', right_on='subject_id')\n",
    "df_key4 = pd.merge(df_key3, los, left_on='subject_id', right_on='subject_id')\n",
    "df_key5 = pd.merge(df_key4, max_age, left_on='subject_id', right_on='subject_id')"
   ]
  },
  {
   "cell_type": "code",
   "execution_count": 20,
   "metadata": {},
   "outputs": [
    {
     "data": {
      "text/html": [
       "<div>\n",
       "<style scoped>\n",
       "    .dataframe tbody tr th:only-of-type {\n",
       "        vertical-align: middle;\n",
       "    }\n",
       "\n",
       "    .dataframe tbody tr th {\n",
       "        vertical-align: top;\n",
       "    }\n",
       "\n",
       "    .dataframe thead th {\n",
       "        text-align: right;\n",
       "    }\n",
       "</style>\n",
       "<table border=\"1\" class=\"dataframe\">\n",
       "  <thead>\n",
       "    <tr style=\"text-align: right;\">\n",
       "      <th></th>\n",
       "      <th>subject_id</th>\n",
       "      <th>gender</th>\n",
       "      <th>on_vent</th>\n",
       "      <th>los_icu</th>\n",
       "      <th>age</th>\n",
       "    </tr>\n",
       "  </thead>\n",
       "  <tbody>\n",
       "    <tr>\n",
       "      <th>0</th>\n",
       "      <td>55973</td>\n",
       "      <td>F</td>\n",
       "      <td>1</td>\n",
       "      <td>92.0</td>\n",
       "      <td>61.9589</td>\n",
       "    </tr>\n",
       "    <tr>\n",
       "      <th>1</th>\n",
       "      <td>27513</td>\n",
       "      <td>M</td>\n",
       "      <td>1</td>\n",
       "      <td>12.0</td>\n",
       "      <td>48.2940</td>\n",
       "    </tr>\n",
       "    <tr>\n",
       "      <th>2</th>\n",
       "      <td>10950</td>\n",
       "      <td>M</td>\n",
       "      <td>1</td>\n",
       "      <td>22.0</td>\n",
       "      <td>54.7500</td>\n",
       "    </tr>\n",
       "    <tr>\n",
       "      <th>3</th>\n",
       "      <td>20707</td>\n",
       "      <td>M</td>\n",
       "      <td>0</td>\n",
       "      <td>1.0</td>\n",
       "      <td>43.3439</td>\n",
       "    </tr>\n",
       "    <tr>\n",
       "      <th>4</th>\n",
       "      <td>29904</td>\n",
       "      <td>F</td>\n",
       "      <td>1</td>\n",
       "      <td>4.0</td>\n",
       "      <td>47.5548</td>\n",
       "    </tr>\n",
       "  </tbody>\n",
       "</table>\n",
       "</div>"
      ],
      "text/plain": [
       "   subject_id gender  on_vent  los_icu      age\n",
       "0       55973      F        1     92.0  61.9589\n",
       "1       27513      M        1     12.0  48.2940\n",
       "2       10950      M        1     22.0  54.7500\n",
       "3       20707      M        0      1.0  43.3439\n",
       "4       29904      F        1      4.0  47.5548"
      ]
     },
     "execution_count": 20,
     "metadata": {},
     "output_type": "execute_result"
    }
   ],
   "source": [
    "df_key5.head()"
   ]
  },
  {
   "cell_type": "markdown",
   "metadata": {},
   "source": [
    "Since age and length of stay are continuous variables (though we have rounded values here), we will create several bins and do stratified sampling on the binned age/LOS."
   ]
  },
  {
   "cell_type": "code",
   "execution_count": 21,
   "metadata": {},
   "outputs": [
    {
     "data": {
      "text/plain": [
       "(array([3.7287e+04, 9.3900e+02, 1.3600e+02, 3.7000e+01, 9.0000e+00,\n",
       "        4.0000e+00, 3.0000e+00, 1.0000e+00, 0.0000e+00, 1.0000e+00]),\n",
       " array([  0. ,  53.8, 107.6, 161.4, 215.2, 269. , 322.8, 376.6, 430.4,\n",
       "        484.2, 538. ]),\n",
       " <BarContainer object of 10 artists>)"
      ]
     },
     "execution_count": 21,
     "metadata": {},
     "output_type": "execute_result"
    },
    {
     "data": {
      "image/png": "[encoded data removed]",
      "text/plain": [
       "<Figure size 432x288 with 1 Axes>"
      ]
     },
     "metadata": {
      "needs_background": "light"
     },
     "output_type": "display_data"
    }
   ],
   "source": [
    "plt.hist(df_key5.los_icu)"
   ]
  },
  {
   "cell_type": "code",
   "execution_count": 22,
   "metadata": {},
   "outputs": [],
   "source": [
    "bins = [0.0, 2.0, 3.0, 5.0, 7.0, 10.0, 15.0]\n",
    "los_binned = np.digitize(df_key5['los_icu'], bins)\n",
    "\n",
    "df_key5['los_binned'] = los_binned"
   ]
  },
  {
   "cell_type": "code",
   "execution_count": 23,
   "metadata": {},
   "outputs": [
    {
     "data": {
      "text/plain": [
       "2    8118\n",
       "1    7797\n",
       "3    6493\n",
       "7    6447\n",
       "4    3528\n",
       "6    3425\n",
       "5    2609\n",
       "Name: los_binned, dtype: int64"
      ]
     },
     "execution_count": 23,
     "metadata": {},
     "output_type": "execute_result"
    }
   ],
   "source": [
    "df_key5['los_binned'].value_counts()"
   ]
  },
  {
   "cell_type": "code",
   "execution_count": 24,
   "metadata": {},
   "outputs": [
    {
     "data": {
      "text/plain": [
       "(array([ 773., 1237., 1379., 2291., 3800., 5103., 5816., 5707., 6186.,\n",
       "        6125.]),\n",
       " array([14.9107 , 22.41963, 29.92856, 37.43749, 44.94642, 52.45535,\n",
       "        59.96428, 67.47321, 74.98214, 82.49107, 90.     ]),\n",
       " <BarContainer object of 10 artists>)"
      ]
     },
     "execution_count": 24,
     "metadata": {},
     "output_type": "execute_result"
    },
    {
     "data": {
      "image/png": "[encoded data removed]",
      "text/plain": [
       "<Figure size 432x288 with 1 Axes>"
      ]
     },
     "metadata": {
      "needs_background": "light"
     },
     "output_type": "display_data"
    }
   ],
   "source": [
    "plt.hist(df_key5.age)"
   ]
  },
  {
   "cell_type": "code",
   "execution_count": 25,
   "metadata": {},
   "outputs": [
    {
     "data": {
      "text/plain": [
       "4    10661\n",
       "2    10411\n",
       "3     9282\n",
       "1     8063\n",
       "Name: age_binned, dtype: int64"
      ]
     },
     "execution_count": 25,
     "metadata": {},
     "output_type": "execute_result"
    }
   ],
   "source": [
    "bins = [0.0, 50.0, 65.0, 77.0]\n",
    "age_binned = np.digitize(df_key5['age'], bins)\n",
    "\n",
    "df_key5['age_binned'] = age_binned\n",
    "df_key5['age_binned'].value_counts()"
   ]
  },
  {
   "cell_type": "markdown",
   "metadata": {},
   "source": [
    "We are now ready to stratify the subject_ids"
   ]
  },
  {
   "cell_type": "code",
   "execution_count": 26,
   "metadata": {},
   "outputs": [],
   "source": [
    "df_train, df_test, = train_test_split(df_key5, test_size=0.3, random_state=16198, \\\n",
    "                                      stratify = df_key5[['age_binned', 'gender', 'los_binned', 'on_vent']])\n",
    "\n",
    "train_id = df_train.subject_id\n",
    "test_id = df_test.subject_id"
   ]
  },
  {
   "cell_type": "code",
   "execution_count": 27,
   "metadata": {},
   "outputs": [],
   "source": [
    "df_test1, df_test2, = train_test_split(df_test, test_size=0.5, random_state=12676, \\\n",
    "                                       stratify = df_test[['age_binned', 'gender', 'los_binned', 'on_vent']])\n",
    "\n",
    "test_id1 = df_test1.subject_id\n",
    "test_id2 = df_test2.subject_id"
   ]
  },
  {
   "cell_type": "markdown",
   "metadata": {},
   "source": [
    "Save these ids"
   ]
  },
  {
   "cell_type": "code",
   "execution_count": 28,
   "metadata": {},
   "outputs": [],
   "source": [
    "train_int = np.array(train_id).astype(int)\n",
    "#test_int = np.array(test_id).astype(int)\n",
    "test_int1 = np.array(test_id1).astype(int)\n",
    "test_int2 = np.array(test_id2).astype(int)\n",
    "\n",
    "np.savetxt('./split_ids/train_id.csv', train_int, fmt='%i')\n",
    "#np.savetxt('./split_ids/test_id.csv', test_int, fmt='%i')\n",
    "np.savetxt('./split_ids/test_id1.csv', test_int1, fmt='%i')\n",
    "np.savetxt('./split_ids/test_id2.csv', test_int2, fmt='%i')"
   ]
  },
  {
   "cell_type": "markdown",
   "metadata": {},
   "source": [
    "### Replicating the exact ids used"
   ]
  },
  {
   "cell_type": "markdown",
   "metadata": {},
   "source": [
    "As mentioned above, the above ids will be the exact same ones that we used. The actual split that we used was based on an earlier version of the data. Subsequent extractions included a greater number of patients, in the interest of keeping the experiment 'blind', we did not subsequently change the train/test split. We note that these new ids actually have no vital sign information (aside from glucose), and hence in the demonstration above, we actually filter those out.\n",
    "\n",
    "In this section, we will create a dataframe based on the earlier SQL code and use this dataframe in the stratified sampling to replicate the same split."
   ]
  },
  {
   "cell_type": "markdown",
   "metadata": {},
   "source": [
    "Let's begin by loading the dataframe (note this may take a while)"
   ]
  },
  {
   "cell_type": "code",
   "execution_count": 29,
   "metadata": {},
   "outputs": [],
   "source": [
    "df_original = load_from_sql('./sql/merged_original.sql', con, schema_name)"
   ]
  },
  {
   "cell_type": "markdown",
   "metadata": {},
   "source": [
    "We see that for the non-infant population, in our final data extraction, we have 173 new patients"
   ]
  },
  {
   "cell_type": "code",
   "execution_count": 30,
   "metadata": {},
   "outputs": [
    {
     "data": {
      "text/plain": [
       "0"
      ]
     },
     "execution_count": 30,
     "metadata": {},
     "output_type": "execute_result"
    }
   ],
   "source": [
    "len(set(df_original[df_original.age>14.9].subject_id.unique()).difference(df.subject_id.unique()))"
   ]
  },
  {
   "cell_type": "code",
   "execution_count": 31,
   "metadata": {},
   "outputs": [
    {
     "data": {
      "text/plain": [
       "173"
      ]
     },
     "execution_count": 31,
     "metadata": {},
     "output_type": "execute_result"
    }
   ],
   "source": [
    "len(set(df.subject_id.unique()).difference(df_original[df_original.age>14.9].subject_id.unique()))"
   ]
  },
  {
   "cell_type": "markdown",
   "metadata": {},
   "source": [
    "We can now check that indeed that these new patients have no vital sign data"
   ]
  },
  {
   "cell_type": "code",
   "execution_count": 32,
   "metadata": {},
   "outputs": [
    {
     "data": {
      "text/plain": [
       "array([nan])"
      ]
     },
     "execution_count": 32,
     "metadata": {},
     "output_type": "execute_result"
    }
   ],
   "source": [
    "new_patients = list(set(df.subject_id.unique()).difference(df_original[df_original.age>14.9].subject_id.unique()))\n",
    "\n",
    "df[df.subject_id.isin(new_patients)].vitals.unique()"
   ]
  },
  {
   "cell_type": "code",
   "execution_count": 33,
   "metadata": {},
   "outputs": [],
   "source": [
    "df_adults2 = df_original[df_original.age>14.9]\n",
    "df_original_key = df_adults2[['subject_id','age', 'gender', 'los_icu','starttime_first_vent' ]].drop_duplicates()\n",
    "vented =  [not pd.isnull(df_original_key.starttime_first_vent.iloc[i]) for i in range(len(df_original_key))]\n",
    "df_original_key['vented'] = vented"
   ]
  },
  {
   "cell_type": "code",
   "execution_count": 34,
   "metadata": {},
   "outputs": [
    {
     "data": {
      "text/html": [
       "<div>\n",
       "<style scoped>\n",
       "    .dataframe tbody tr th:only-of-type {\n",
       "        vertical-align: middle;\n",
       "    }\n",
       "\n",
       "    .dataframe tbody tr th {\n",
       "        vertical-align: top;\n",
       "    }\n",
       "\n",
       "    .dataframe thead th {\n",
       "        text-align: right;\n",
       "    }\n",
       "</style>\n",
       "<table border=\"1\" class=\"dataframe\">\n",
       "  <thead>\n",
       "    <tr style=\"text-align: right;\">\n",
       "      <th></th>\n",
       "      <th>subject_id</th>\n",
       "      <th>age</th>\n",
       "      <th>gender</th>\n",
       "      <th>los_icu</th>\n",
       "      <th>starttime_first_vent</th>\n",
       "      <th>vented</th>\n",
       "    </tr>\n",
       "  </thead>\n",
       "  <tbody>\n",
       "    <tr>\n",
       "      <th>0</th>\n",
       "      <td>55973</td>\n",
       "      <td>61.0499</td>\n",
       "      <td>F</td>\n",
       "      <td>3.0</td>\n",
       "      <td>NaT</td>\n",
       "      <td>False</td>\n",
       "    </tr>\n",
       "    <tr>\n",
       "      <th>128</th>\n",
       "      <td>27513</td>\n",
       "      <td>48.2940</td>\n",
       "      <td>M</td>\n",
       "      <td>6.0</td>\n",
       "      <td>2199-08-03 18:00:00</td>\n",
       "      <td>True</td>\n",
       "    </tr>\n",
       "    <tr>\n",
       "      <th>310</th>\n",
       "      <td>10950</td>\n",
       "      <td>54.0710</td>\n",
       "      <td>M</td>\n",
       "      <td>1.0</td>\n",
       "      <td>2159-09-03 13:00:00</td>\n",
       "      <td>True</td>\n",
       "    </tr>\n",
       "    <tr>\n",
       "      <th>341</th>\n",
       "      <td>20707</td>\n",
       "      <td>43.3439</td>\n",
       "      <td>M</td>\n",
       "      <td>1.0</td>\n",
       "      <td>NaT</td>\n",
       "      <td>False</td>\n",
       "    </tr>\n",
       "    <tr>\n",
       "      <th>373</th>\n",
       "      <td>29904</td>\n",
       "      <td>47.5548</td>\n",
       "      <td>F</td>\n",
       "      <td>2.0</td>\n",
       "      <td>2189-11-30 18:10:00</td>\n",
       "      <td>True</td>\n",
       "    </tr>\n",
       "  </tbody>\n",
       "</table>\n",
       "</div>"
      ],
      "text/plain": [
       "     subject_id      age gender  los_icu starttime_first_vent  vented\n",
       "0         55973  61.0499      F      3.0                  NaT   False\n",
       "128       27513  48.2940      M      6.0  2199-08-03 18:00:00    True\n",
       "310       10950  54.0710      M      1.0  2159-09-03 13:00:00    True\n",
       "341       20707  43.3439      M      1.0                  NaT   False\n",
       "373       29904  47.5548      F      2.0  2189-11-30 18:10:00    True"
      ]
     },
     "execution_count": 34,
     "metadata": {},
     "output_type": "execute_result"
    }
   ],
   "source": [
    "df_original_key.head()"
   ]
  },
  {
   "cell_type": "code",
   "execution_count": 35,
   "metadata": {},
   "outputs": [],
   "source": [
    "los = df_original_key.groupby('subject_id', as_index=False)['los_icu'].sum()"
   ]
  },
  {
   "cell_type": "code",
   "execution_count": 36,
   "metadata": {},
   "outputs": [],
   "source": [
    "vent = df_original_key.groupby('subject_id', as_index=False)['vented'].max()"
   ]
  },
  {
   "cell_type": "code",
   "execution_count": 37,
   "metadata": {},
   "outputs": [],
   "source": [
    "max_age = df_original_key.groupby('subject_id', as_index=False)['age'].max()"
   ]
  },
  {
   "cell_type": "code",
   "execution_count": 38,
   "metadata": {},
   "outputs": [],
   "source": [
    "df_original_key2 = df_original_key[['subject_id', 'gender']].drop_duplicates()\n",
    "df_original_key3 = pd.merge(df_original_key2, vent, left_on='subject_id', right_on='subject_id')\n",
    "df_original_key4 = pd.merge(df_original_key3, los, left_on='subject_id', right_on='subject_id')\n",
    "df_original_key5 = pd.merge(df_original_key4, max_age, left_on='subject_id', right_on='subject_id')"
   ]
  },
  {
   "cell_type": "code",
   "execution_count": 39,
   "metadata": {},
   "outputs": [
    {
     "data": {
      "text/html": [
       "<div>\n",
       "<style scoped>\n",
       "    .dataframe tbody tr th:only-of-type {\n",
       "        vertical-align: middle;\n",
       "    }\n",
       "\n",
       "    .dataframe tbody tr th {\n",
       "        vertical-align: top;\n",
       "    }\n",
       "\n",
       "    .dataframe thead th {\n",
       "        text-align: right;\n",
       "    }\n",
       "</style>\n",
       "<table border=\"1\" class=\"dataframe\">\n",
       "  <thead>\n",
       "    <tr style=\"text-align: right;\">\n",
       "      <th></th>\n",
       "      <th>subject_id</th>\n",
       "      <th>gender</th>\n",
       "      <th>vented</th>\n",
       "      <th>los_icu</th>\n",
       "      <th>age</th>\n",
       "    </tr>\n",
       "  </thead>\n",
       "  <tbody>\n",
       "    <tr>\n",
       "      <th>0</th>\n",
       "      <td>55973</td>\n",
       "      <td>F</td>\n",
       "      <td>True</td>\n",
       "      <td>55.0</td>\n",
       "      <td>61.6879</td>\n",
       "    </tr>\n",
       "    <tr>\n",
       "      <th>1</th>\n",
       "      <td>27513</td>\n",
       "      <td>M</td>\n",
       "      <td>True</td>\n",
       "      <td>6.0</td>\n",
       "      <td>48.2940</td>\n",
       "    </tr>\n",
       "    <tr>\n",
       "      <th>2</th>\n",
       "      <td>10950</td>\n",
       "      <td>M</td>\n",
       "      <td>True</td>\n",
       "      <td>12.0</td>\n",
       "      <td>54.7500</td>\n",
       "    </tr>\n",
       "    <tr>\n",
       "      <th>3</th>\n",
       "      <td>20707</td>\n",
       "      <td>M</td>\n",
       "      <td>False</td>\n",
       "      <td>1.0</td>\n",
       "      <td>43.3439</td>\n",
       "    </tr>\n",
       "    <tr>\n",
       "      <th>4</th>\n",
       "      <td>29904</td>\n",
       "      <td>F</td>\n",
       "      <td>True</td>\n",
       "      <td>2.0</td>\n",
       "      <td>47.5548</td>\n",
       "    </tr>\n",
       "  </tbody>\n",
       "</table>\n",
       "</div>"
      ],
      "text/plain": [
       "   subject_id gender  vented  los_icu      age\n",
       "0       55973      F    True     55.0  61.6879\n",
       "1       27513      M    True      6.0  48.2940\n",
       "2       10950      M    True     12.0  54.7500\n",
       "3       20707      M   False      1.0  43.3439\n",
       "4       29904      F    True      2.0  47.5548"
      ]
     },
     "execution_count": 39,
     "metadata": {},
     "output_type": "execute_result"
    }
   ],
   "source": [
    "df_original_key5.head()"
   ]
  },
  {
   "cell_type": "code",
   "execution_count": 40,
   "metadata": {},
   "outputs": [],
   "source": [
    "bins = [0.0, 2.0, 3.0, 5.0, 7.0, 10.0, 15.0]\n",
    "los_binned = np.digitize(df_original_key5['los_icu'], bins)\n",
    "\n",
    "df_original_key5['los_binned'] = los_binned\n",
    "bins = [0.0, 50.0, 65.0, 77.0]\n",
    "age_binned = np.digitize(df_original_key5['age'], bins)\n",
    "\n",
    "df_original_key5['age_binned'] = age_binned\n"
   ]
  },
  {
   "cell_type": "code",
   "execution_count": 41,
   "metadata": {},
   "outputs": [],
   "source": [
    "df_train, df_test, = train_test_split(df_original_key5, test_size=0.3, random_state=16198, \\\n",
    "                                      stratify = df_original_key5[['age_binned', 'gender', 'los_binned', 'vented']])\n",
    "\n",
    "train_id = df_train.subject_id\n",
    "test_id = df_test.subject_id"
   ]
  },
  {
   "cell_type": "code",
   "execution_count": 42,
   "metadata": {},
   "outputs": [],
   "source": [
    "df_test1, df_test2, = train_test_split(df_test, test_size=0.5, random_state=12676,\\\n",
    "                                       stratify = df_test[['age_binned', 'gender', 'los_binned', 'vented']])"
   ]
  },
  {
   "cell_type": "markdown",
   "metadata": {},
   "source": [
    "Next we test this split against the ids we used for our analysis"
   ]
  },
  {
   "cell_type": "code",
   "execution_count": 43,
   "metadata": {},
   "outputs": [],
   "source": [
    "train = pd.read_csv('./original_ids/train_id.csv', delimiter=',', names=['subject_id'])"
   ]
  },
  {
   "cell_type": "code",
   "execution_count": 44,
   "metadata": {},
   "outputs": [
    {
     "data": {
      "text/plain": [
       "0"
      ]
     },
     "execution_count": 44,
     "metadata": {},
     "output_type": "execute_result"
    }
   ],
   "source": [
    "len(set(train.subject_id).difference(set(train_id)))"
   ]
  },
  {
   "cell_type": "code",
   "execution_count": 45,
   "metadata": {},
   "outputs": [],
   "source": [
    "test1 = pd.read_csv('./original_ids/test_id1.csv', delimiter=',', names=['subject_id'])"
   ]
  },
  {
   "cell_type": "code",
   "execution_count": 46,
   "metadata": {},
   "outputs": [
    {
     "data": {
      "text/plain": [
       "0"
      ]
     },
     "execution_count": 46,
     "metadata": {},
     "output_type": "execute_result"
    }
   ],
   "source": [
    "len(set(test1.subject_id).difference(set(df_test1.subject_id)))"
   ]
  },
  {
   "cell_type": "code",
   "execution_count": 47,
   "metadata": {},
   "outputs": [],
   "source": [
    "test2 = pd.read_csv('./original_ids/test_id2.csv', delimiter=',', names=['subject_id'])"
   ]
  },
  {
   "cell_type": "code",
   "execution_count": 48,
   "metadata": {},
   "outputs": [
    {
     "data": {
      "text/plain": [
       "0"
      ]
     },
     "execution_count": 48,
     "metadata": {},
     "output_type": "execute_result"
    }
   ],
   "source": [
    "len(set(test2.subject_id).difference(set(df_test2.subject_id)))"
   ]
  },
  {
   "cell_type": "markdown",
   "metadata": {},
   "source": [
    "As we see, there are no differences between the split done above and our previously saved ids."
   ]
  },
  {
   "cell_type": "markdown",
   "metadata": {},
   "source": [
    "These original ids can be saved/copied over to `split_ids` folder if desired"
   ]
  }
 ],
 "metadata": {
  "hide_input": false,
  "kernelspec": {
   "display_name": "Python 3",
   "language": "python",
   "name": "python3"
  },
  "language_info": {
   "codemirror_mode": {
    "name": "ipython",
    "version": 3
   },
   "file_extension": ".py",
   "mimetype": "text/x-python",
   "name": "python",
   "nbconvert_exporter": "python",
   "pygments_lexer": "ipython3",
   "version": "3.7.10"
  }
 },
 "nbformat": 4,
 "nbformat_minor": 4
}
